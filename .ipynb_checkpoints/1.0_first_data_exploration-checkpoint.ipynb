{
 "cells": [
  {
   "cell_type": "code",
   "execution_count": null,
   "id": "d226ad9d",
   "metadata": {},
   "outputs": [],
   "source": [
    "client_id = \"3125839168102564\"\n",
    "client_secret = \"D2bLvYwYvX9Nyu9I9VKilUcI8iCSJLUp\" NO ENTREGAR CON ESTO VISIBLE!!!"
   ]
  },
  {
   "cell_type": "code",
   "execution_count": 7,
   "id": "afebb670",
   "metadata": {},
   "outputs": [
    {
     "name": "stdout",
     "output_type": "stream",
     "text": [
      "{\"id\":\"MLA3530\",\"name\":\"Otros\",\"picture\":\"https://http2.mlstatic.com/storage/categories-api/images/985c3a8d-ea5b-4266-a0cf-a3dc51f6e12f.png\",\"permalink\":null,\"total_items_in_this_category\":406490,\"path_from_root\":[{\"id\":\"MLA1953\",\"name\":\"Otras categorías\"},{\"id\":\"MLA3530\",\"name\":\"Otros\"}],\"children_categories\":[],\"attribute_types\":\"attributes\",\"settings\":{\"adult_content\":false,\"buying_allowed\":true,\"buying_modes\":[\"buy_it_now\",\"auction\"],\"catalog_domain\":\"MLA-UNCLASSIFIED_PRODUCTS\",\"coverage_areas\":\"not_allowed\",\"currencies\":[\"ARS\"],\"fragile\":false,\"immediate_payment\":\"required\",\"item_conditions\":[\"new\",\"not_specified\",\"used\"],\"items_reviews_allowed\":false,\"listing_allowed\":true,\"max_description_length\":50000,\"max_pictures_per_item\":12,\"max_pictures_per_item_var\":10,\"max_sub_title_length\":70,\"max_title_length\":60,\"max_variations_allowed\":100,\"maximum_price\":null,\"maximum_price_currency\":\"ARS\",\"minimum_price\":1000,\"minimum_price_currency\":\"ARS\",\"mirror_category\":null,\"mirror_master_category\":null,\"mirror_slave_categories\":[],\"price\":\"required\",\"reservation_allowed\":\"not_allowed\",\"restrictions\":[],\"rounded_address\":false,\"seller_contact\":\"not_allowed\",\"shipping_options\":[\"custom\",\"carrier\"],\"shipping_profile\":\"optional\",\"show_contact_information\":false,\"simple_shipping\":\"optional\",\"stock\":\"required\",\"sub_vertical\":\"other\",\"subscribable\":false,\"tags\":[\"others\"],\"vertical\":\"other\",\"vip_subdomain\":\"articulo\",\"buyer_protection_programs\":[\"delivered\",\"undelivered\"],\"status\":\"enabled\"},\"channels_settings\":[{\"channel\":\"private\",\"settings\":{\"minimum_price\":null,\"price\":\"optional\",\"status\":\"enabled\",\"stock\":\"optional\"}},{\"channel\":\"mshops\",\"settings\":{\"minimum_price\":0}},{\"channel\":\"proximity\",\"settings\":{\"status\":\"disabled\"}},{\"channel\":\"mp-merchants\",\"settings\":{\"buying_modes\":[\"buy_it_now\"],\"immediate_payment\":\"required\",\"minimum_price\":1,\"status\":\"enabled\"}},{\"channel\":\"mp-link\",\"settings\":{\"buying_modes\":[\"buy_it_now\"],\"immediate_payment\":\"required\",\"minimum_price\":1,\"status\":\"enabled\"}}],\"meta_categ_id\":null,\"attributable\":false,\"date_created\":\"2018-04-25T08:12:56.000Z\"}"
     ]
    }
   ],
   "source": [
    "!curl -X GET -H 'Authorization: Bearer $ACCESS_TOKEN' https://api.mercadolibre.com/categories/MLA3530"
   ]
  },
  {
   "cell_type": "code",
   "execution_count": 6,
   "id": "ba74df2e",
   "metadata": {},
   "outputs": [
    {
     "name": "stdout",
     "output_type": "stream",
     "text": [
      "zsh:1: no matches found: https://api.mercadolibre.com/sites/MLA/domain_discovery/search?limit=1\r\n"
     ]
    }
   ],
   "source": [
    "!curl -X GET -H 'Authorization: Bearer $ACCESS_TOKEN'  https://api.mercadolibre.com/sites/MLA/domain_discovery/search?limit=1&q=celular%20iphone"
   ]
  },
  {
   "cell_type": "code",
   "execution_count": 3,
   "id": "f6d0157e",
   "metadata": {},
   "outputs": [
    {
     "name": "stdout",
     "output_type": "stream",
     "text": [
      "zsh:1: no matches found: https://api.mercadolibre.com/sites/MLA/search?q=tv%204k\r\n"
     ]
    }
   ],
   "source": [
    "!curl -X GET -H 'Authorization: Bearer $ACCESS_TOKEN' https://api.mercadolibre.com/sites/MLA/search?q=tv%204k"
   ]
  },
  {
   "cell_type": "code",
   "execution_count": 4,
   "id": "e334ae54",
   "metadata": {},
   "outputs": [
    {
     "name": "stdout",
     "output_type": "stream",
     "text": [
      "zsh:1: no matches found: https://api.mercadolibre.com/sites/MLA/search?q=\r\n"
     ]
    }
   ],
   "source": [
    "!curl -X GET -H 'Authorization: Bearer $ACCESS_TOKEN' https://api.mercadolibre.com/sites/MLA/search?q="
   ]
  },
  {
   "cell_type": "code",
   "execution_count": null,
   "id": "c5ec53e8",
   "metadata": {},
   "outputs": [],
   "source": []
  }
 ],
 "metadata": {
  "kernelspec": {
   "display_name": "Python 3 (ipykernel)",
   "language": "python",
   "name": "python3"
  },
  "language_info": {
   "codemirror_mode": {
    "name": "ipython",
    "version": 3
   },
   "file_extension": ".py",
   "mimetype": "text/x-python",
   "name": "python",
   "nbconvert_exporter": "python",
   "pygments_lexer": "ipython3",
   "version": "3.11.4"
  },
  "toc": {
   "base_numbering": 1,
   "nav_menu": {},
   "number_sections": true,
   "sideBar": false,
   "skip_h1_title": false,
   "title_cell": "Table of Contents",
   "title_sidebar": "Contents",
   "toc_cell": false,
   "toc_position": {},
   "toc_section_display": true,
   "toc_window_display": false
  }
 },
 "nbformat": 4,
 "nbformat_minor": 5
}
