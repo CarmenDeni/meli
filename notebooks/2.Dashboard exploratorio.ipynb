{
 "cells": [
  {
   "cell_type": "code",
   "execution_count": 4,
   "id": "005bc1b9",
   "metadata": {},
   "outputs": [
    {
     "data": {
      "application/vnd.jupyter.widget-view+json": {
       "model_id": "c6aea8b3b2f344adb64babcc3e326107",
       "version_major": 2,
       "version_minor": 0
      },
      "text/plain": [
       "Dropdown(description='Marca:', options=('Sony', 'Samsung', 'LG', 'Panasonic'), value='Sony')"
      ]
     },
     "metadata": {},
     "output_type": "display_data"
    },
    {
     "data": {
      "application/vnd.jupyter.widget-view+json": {
       "model_id": "f447c5c283154b979bf75c1626855f06",
       "version_major": 2,
       "version_minor": 0
      },
      "text/plain": [
       "Output()"
      ]
     },
     "metadata": {},
     "output_type": "display_data"
    },
    {
     "data": {
      "application/vnd.jupyter.widget-view+json": {
       "model_id": "0a706735672c493c8d0ab3c7b75a9769",
       "version_major": 2,
       "version_minor": 0
      },
      "text/plain": [
       "Output()"
      ]
     },
     "metadata": {},
     "output_type": "display_data"
    },
    {
     "data": {
      "application/vnd.jupyter.widget-view+json": {
       "model_id": "68da7017840b45d495f86c075ae5aebd",
       "version_major": 2,
       "version_minor": 0
      },
      "text/plain": [
       "Output()"
      ]
     },
     "metadata": {},
     "output_type": "display_data"
    },
    {
     "data": {
      "application/vnd.jupyter.widget-view+json": {
       "model_id": "ed39ce518619413f9e2c4d0ea9860105",
       "version_major": 2,
       "version_minor": 0
      },
      "text/plain": [
       "Output()"
      ]
     },
     "metadata": {},
     "output_type": "display_data"
    }
   ],
   "source": [
    "import pandas as pd\n",
    "import ipywidgets as widgets\n",
    "from IPython.display import display\n",
    "import matplotlib.pyplot as plt\n",
    "import plotly.express as px\n",
    "\n",
    "# Asume que el DataFrame 'result' ya ha sido generado por la clase Analyst y está disponible\n",
    "result = pd.DataFrame({\n",
    "    'brand': ['Sony', 'Samsung', 'LG', 'Panasonic'],\n",
    "    'category_id': ['TV', 'Phone', 'TV', 'TV'],\n",
    "    'discount': [10, 15, 5, 12],\n",
    "    'price': [400, 500, 350, 420],\n",
    "    'days_until_discount_end': [2, 3, 5, 1]\n",
    "})\n",
    "\n",
    "# Crear una selección interactiva para mostrar los productos por marca\n",
    "brand_selector = widgets.Dropdown(\n",
    "    options=result['brand'].unique(),\n",
    "    value='Sony',\n",
    "    description='Marca:',\n",
    "    disabled=False,\n",
    ")\n",
    "\n",
    "# Crear contenedores de salida para los gráficos\n",
    "output_table = widgets.Output()\n",
    "output_bar = widgets.Output()\n",
    "output_line = widgets.Output()\n",
    "output_pie = widgets.Output()\n",
    "\n",
    "# Función para mostrar los datos filtrados\n",
    "def display_filtered_data(change):\n",
    "    selected_brand = brand_selector.value\n",
    "    filtered_data = result[result['brand'] == selected_brand]\n",
    "    \n",
    "    # Limpiar la salida anterior\n",
    "    output_table.clear_output()\n",
    "    output_bar.clear_output()\n",
    "    output_line.clear_output()\n",
    "    output_pie.clear_output()\n",
    "    \n",
    "    # Mostrar la tabla filtrada\n",
    "    with output_table:\n",
    "        display(filtered_data)\n",
    "    \n",
    "    # Gráfico de barras: Precio de productos\n",
    "    with output_bar:\n",
    "        fig, ax = plt.subplots()\n",
    "        ax.bar(filtered_data['category_id'], filtered_data['price'], color='skyblue')\n",
    "        ax.set_title(f'Precio por Categoría - {selected_brand}')\n",
    "        ax.set_xlabel('Categoría')\n",
    "        ax.set_ylabel('Precio')\n",
    "        plt.tight_layout()\n",
    "        plt.show()\n",
    "\n",
    "    # Gráfico de líneas: Días hasta fin del descuento\n",
    "    with output_line:\n",
    "        fig, ax = plt.subplots()\n",
    "        ax.plot(filtered_data['category_id'], filtered_data['days_until_discount_end'], marker='o', color='orange')\n",
    "        ax.set_title(f'Días hasta fin del descuento - {selected_brand}')\n",
    "        ax.set_xlabel('Categoría')\n",
    "        ax.set_ylabel('Días hasta fin del descuento')\n",
    "        plt.tight_layout()\n",
    "        plt.show()\n",
    "\n",
    "    # Gráfico circular (pie chart): Distribución de descuentos\n",
    "    with output_pie:\n",
    "        fig = px.pie(filtered_data, names='category_id', values='discount', title=f'Distribución de Descuento por Categoría - {selected_brand}')\n",
    "        fig.show()\n",
    "\n",
    "# Mostrar la tabla y los gráficos iniciales\n",
    "display_filtered_data(None)\n",
    "\n",
    "# Conectar el selector de marca con la función\n",
    "brand_selector.observe(display_filtered_data, names='value')\n",
    "\n",
    "# Mostrar el widget, la tabla y los gráficos\n",
    "display(brand_selector, output_table, output_bar, output_line, output_pie)\n"
   ]
  },
  {
   "cell_type": "code",
   "execution_count": null,
   "id": "93523672",
   "metadata": {},
   "outputs": [],
   "source": []
  }
 ],
 "metadata": {
  "kernelspec": {
   "display_name": "Python 3 (ipykernel)",
   "language": "python",
   "name": "python3"
  },
  "language_info": {
   "codemirror_mode": {
    "name": "ipython",
    "version": 3
   },
   "file_extension": ".py",
   "mimetype": "text/x-python",
   "name": "python",
   "nbconvert_exporter": "python",
   "pygments_lexer": "ipython3",
   "version": "3.11.4"
  },
  "toc": {
   "base_numbering": 1,
   "nav_menu": {},
   "number_sections": true,
   "sideBar": false,
   "skip_h1_title": false,
   "title_cell": "Table of Contents",
   "title_sidebar": "Contents",
   "toc_cell": false,
   "toc_position": {},
   "toc_section_display": true,
   "toc_window_display": false
  }
 },
 "nbformat": 4,
 "nbformat_minor": 5
}
