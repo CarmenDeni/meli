{
 "cells": [
  {
   "cell_type": "markdown",
   "id": "2d4093b1",
   "metadata": {},
   "source": [
    "# Import data and libraries"
   ]
  },
  {
   "cell_type": "code",
   "execution_count": 1,
   "id": "293e3432",
   "metadata": {},
   "outputs": [],
   "source": [
    "import sys\n",
    "import os\n",
    "\n",
    "sys.path.append(os.path.abspath(os.path.join('..')))\n",
    "\n",
    "from data_experts.learning_functions import *"
   ]
  },
  {
   "cell_type": "code",
   "execution_count": 3,
   "id": "8e7cdc44",
   "metadata": {},
   "outputs": [],
   "source": [
    "import pandas as pd\n",
    "pd.set_option('display.max_rows', None)\n",
    "pd.set_option('display.max_columns', None)"
   ]
  },
  {
   "cell_type": "code",
   "execution_count": 4,
   "id": "e3ce33f6",
   "metadata": {},
   "outputs": [],
   "source": [
    "from sklearn.model_selection import train_test_split\n",
    "from sklearn.preprocessing import LabelEncoder, StandardScaler\n",
    "from sklearn.tree import DecisionTreeRegressor\n",
    "from lightgbm import LGBMRegressor\n",
    "from sklearn.metrics import mean_absolute_error, mean_squared_error\n",
    "import numpy as np\n",
    "from sklearn.model_selection import train_test_split, GridSearchCV, cross_val_score\n",
    "from sklearn.preprocessing import LabelEncoder, StandardScaler, OneHotEncoder\n",
    "from sklearn.compose import ColumnTransformer\n",
    "from sklearn.pipeline import Pipeline\n",
    "from sklearn.impute import SimpleImputer\n",
    "from sklearn.ensemble import RandomForestRegressor\n",
    "from xgboost import XGBRegressor\n",
    "from lightgbm import LGBMRegressor\n",
    "from bayes_opt import BayesianOptimization\n",
    "from sklearn.metrics import mean_absolute_error, mean_squared_error, r2_score"
   ]
  },
  {
   "cell_type": "code",
   "execution_count": 5,
   "id": "30c852f6",
   "metadata": {},
   "outputs": [],
   "source": [
    "df = pd.read_csv(\"../data/electronics_features_to_analyze.csv\").drop(\"Unnamed: 0\", axis = 1)"
   ]
  },
  {
   "cell_type": "markdown",
   "id": "0a591e3d",
   "metadata": {},
   "source": [
    "# Training Pipelines"
   ]
  },
  {
   "cell_type": "code",
   "execution_count": null,
   "id": "a0510683",
   "metadata": {},
   "outputs": [],
   "source": [
    "# Definir las características categóricas y numéricas\n",
    "# Columnas numéricas\n",
    "target = \"sold_quantity\"\n",
    "numerical_features = [\n",
    "    'price', \n",
    "    'initial_quantity',\n",
    "    'available_quantity', \n",
    "    'sold_quantity', \n",
    "    'installment_quantity', \n",
    "    'installment_rate', \n",
    "    'days_until_discount_end', \n",
    "    'msi', \n",
    "    'discount'\n",
    "]\n",
    "numerical_features.remove(target)\n",
    "\n",
    "# Columnas categóricas\n",
    "categorical_features = [\n",
    "    'buying_mode', \n",
    "    'query', \n",
    "    'condition', \n",
    "    'brand', \n",
    "    'domain_id', \n",
    "    'listing_type_id', \n",
    "    'is_official_store', \n",
    "    'free_shipping', \n",
    "    'store_pick_up'\n",
    "]\n",
    "\n",
    "# Definir las características y el target\n",
    "X = df[numerical_features + categorical_features]\n",
    "y = df[target]\n",
    "\n",
    "# División de los datos en conjuntos de entrenamiento y prueba\n",
    "X_train, X_test, y_train, y_test = train_test_split(X, y, test_size=0.2, random_state=42)"
   ]
  },
  {
   "cell_type": "code",
   "execution_count": 38,
   "id": "f78d27a6",
   "metadata": {},
   "outputs": [
    {
     "name": "stdout",
     "output_type": "stream",
     "text": [
      "Fitting 5 folds for each of 27 candidates, totalling 135 fits\n"
     ]
    }
   ],
   "source": [
    "# Random Forest\n",
    "rf_pipeline = build_pipeline(RandomForestRegressor(random_state=42), categorical_features, numerical_features)\n",
    "rf_param_grid = {\n",
    "    'model__n_estimators': [100, 200, 300],\n",
    "    'model__max_depth': [10, 20, 30],\n",
    "    'model__min_samples_split': [2, 5, 10]\n",
    "}\n",
    "rf_best_model, rf_grid_search = run_grid_search(rf_pipeline, rf_param_grid, X_train, y_train)\n",
    "rf_results_df = calculate_and_compile_metrics(\"Random Forest\", rf_best_model, X_train, X_test, y_train, y_test, rf_grid_search.best_params_)"
   ]
  },
  {
   "cell_type": "code",
   "execution_count": 8,
   "id": "b47069a3",
   "metadata": {},
   "outputs": [
    {
     "name": "stdout",
     "output_type": "stream",
     "text": [
      "Fitting 5 folds for each of 27 candidates, totalling 135 fits\n"
     ]
    }
   ],
   "source": [
    "# XGBoost\n",
    "xgb_pipeline = build_pipeline(XGBRegressor(random_state=42), categorical_features, numerical_features)\n",
    "xgb_param_grid = {\n",
    "    'model__n_estimators': [100, 200, 300],\n",
    "    'model__learning_rate': [0.01, 0.1, 0.2],\n",
    "    'model__max_depth': [3, 6, 9]\n",
    "}\n",
    "xgb_best_model, xgb_grid_search = run_grid_search(xgb_pipeline, xgb_param_grid, X_train, y_train)\n",
    "xgb_results_df = calculate_and_compile_metrics(\"XGBoost\", xgb_best_model, X_train, X_test, y_train, y_test, xgb_grid_search.best_params_)"
   ]
  },
  {
   "cell_type": "code",
   "execution_count": 9,
   "id": "52429ee0",
   "metadata": {},
   "outputs": [
    {
     "name": "stdout",
     "output_type": "stream",
     "text": [
      "Fitting 5 folds for each of 27 candidates, totalling 135 fits\n"
     ]
    }
   ],
   "source": [
    "# LightGBM\n",
    "lgbm_pipeline = build_pipeline(LGBMRegressor(random_state=42, verbose=-1), categorical_features, numerical_features)\n",
    "lgbm_param_grid = {\n",
    "    'model__num_leaves': [31, 50, 100],\n",
    "    'model__learning_rate': [0.01, 0.05, 0.1],\n",
    "    'model__n_estimators': [100, 200, 300]\n",
    "}\n",
    "lgbm_best_model, lgbm_grid_search = run_grid_search(lgbm_pipeline, lgbm_param_grid, X_train, y_train)\n",
    "lgbm_results_df = calculate_and_compile_metrics(\"LightGBM\", lgbm_best_model, X_train, X_test, y_train, y_test, lgbm_grid_search.best_params_)"
   ]
  },
  {
   "cell_type": "markdown",
   "id": "26e524fc",
   "metadata": {},
   "source": [
    "Buscar outliers en el training set pues no tiene sentido que el error se dispare para el trainingset"
   ]
  },
  {
   "cell_type": "markdown",
   "id": "22289e58",
   "metadata": {
    "heading_collapsed": true
   },
   "source": [
    "# Results and choosing the best model"
   ]
  },
  {
   "cell_type": "code",
   "execution_count": 27,
   "id": "b4158c2b",
   "metadata": {
    "hidden": true
   },
   "outputs": [],
   "source": [
    "def show_training(train_scores, test_scores):\n",
    "    return pd.DataFrame([list(t) for t in zip(train_scores, test_scores)], columns = [\"train\", \"test\"])\n",
    "pd.options.display.float_format = '{:,.2f}'.format"
   ]
  },
  {
   "cell_type": "code",
   "execution_count": 10,
   "id": "c32718c1",
   "metadata": {
    "hidden": true
   },
   "outputs": [
    {
     "data": {
      "text/html": [
       "<style>#sk-container-id-1 {color: black;}#sk-container-id-1 pre{padding: 0;}#sk-container-id-1 div.sk-toggleable {background-color: white;}#sk-container-id-1 label.sk-toggleable__label {cursor: pointer;display: block;width: 100%;margin-bottom: 0;padding: 0.3em;box-sizing: border-box;text-align: center;}#sk-container-id-1 label.sk-toggleable__label-arrow:before {content: \"▸\";float: left;margin-right: 0.25em;color: #696969;}#sk-container-id-1 label.sk-toggleable__label-arrow:hover:before {color: black;}#sk-container-id-1 div.sk-estimator:hover label.sk-toggleable__label-arrow:before {color: black;}#sk-container-id-1 div.sk-toggleable__content {max-height: 0;max-width: 0;overflow: hidden;text-align: left;background-color: #f0f8ff;}#sk-container-id-1 div.sk-toggleable__content pre {margin: 0.2em;color: black;border-radius: 0.25em;background-color: #f0f8ff;}#sk-container-id-1 input.sk-toggleable__control:checked~div.sk-toggleable__content {max-height: 200px;max-width: 100%;overflow: auto;}#sk-container-id-1 input.sk-toggleable__control:checked~label.sk-toggleable__label-arrow:before {content: \"▾\";}#sk-container-id-1 div.sk-estimator input.sk-toggleable__control:checked~label.sk-toggleable__label {background-color: #d4ebff;}#sk-container-id-1 div.sk-label input.sk-toggleable__control:checked~label.sk-toggleable__label {background-color: #d4ebff;}#sk-container-id-1 input.sk-hidden--visually {border: 0;clip: rect(1px 1px 1px 1px);clip: rect(1px, 1px, 1px, 1px);height: 1px;margin: -1px;overflow: hidden;padding: 0;position: absolute;width: 1px;}#sk-container-id-1 div.sk-estimator {font-family: monospace;background-color: #f0f8ff;border: 1px dotted black;border-radius: 0.25em;box-sizing: border-box;margin-bottom: 0.5em;}#sk-container-id-1 div.sk-estimator:hover {background-color: #d4ebff;}#sk-container-id-1 div.sk-parallel-item::after {content: \"\";width: 100%;border-bottom: 1px solid gray;flex-grow: 1;}#sk-container-id-1 div.sk-label:hover label.sk-toggleable__label {background-color: #d4ebff;}#sk-container-id-1 div.sk-serial::before {content: \"\";position: absolute;border-left: 1px solid gray;box-sizing: border-box;top: 0;bottom: 0;left: 50%;z-index: 0;}#sk-container-id-1 div.sk-serial {display: flex;flex-direction: column;align-items: center;background-color: white;padding-right: 0.2em;padding-left: 0.2em;position: relative;}#sk-container-id-1 div.sk-item {position: relative;z-index: 1;}#sk-container-id-1 div.sk-parallel {display: flex;align-items: stretch;justify-content: center;background-color: white;position: relative;}#sk-container-id-1 div.sk-item::before, #sk-container-id-1 div.sk-parallel-item::before {content: \"\";position: absolute;border-left: 1px solid gray;box-sizing: border-box;top: 0;bottom: 0;left: 50%;z-index: -1;}#sk-container-id-1 div.sk-parallel-item {display: flex;flex-direction: column;z-index: 1;position: relative;background-color: white;}#sk-container-id-1 div.sk-parallel-item:first-child::after {align-self: flex-end;width: 50%;}#sk-container-id-1 div.sk-parallel-item:last-child::after {align-self: flex-start;width: 50%;}#sk-container-id-1 div.sk-parallel-item:only-child::after {width: 0;}#sk-container-id-1 div.sk-dashed-wrapped {border: 1px dashed gray;margin: 0 0.4em 0.5em 0.4em;box-sizing: border-box;padding-bottom: 0.4em;background-color: white;}#sk-container-id-1 div.sk-label label {font-family: monospace;font-weight: bold;display: inline-block;line-height: 1.2em;}#sk-container-id-1 div.sk-label-container {text-align: center;}#sk-container-id-1 div.sk-container {/* jupyter's `normalize.less` sets `[hidden] { display: none; }` but bootstrap.min.css set `[hidden] { display: none !important; }` so we also need the `!important` here to be able to override the default hidden behavior on the sphinx rendered scikit-learn.org. See: https://github.com/scikit-learn/scikit-learn/issues/21755 */display: inline-block !important;position: relative;}#sk-container-id-1 div.sk-text-repr-fallback {display: none;}</style><div id=\"sk-container-id-1\" class=\"sk-top-container\"><div class=\"sk-text-repr-fallback\"><pre>Pipeline(steps=[(&#x27;preprocessor&#x27;,\n",
       "                 ColumnTransformer(transformers=[(&#x27;num&#x27;,\n",
       "                                                  SimpleImputer(strategy=&#x27;median&#x27;),\n",
       "                                                  [&#x27;price&#x27;, &#x27;initial_quantity&#x27;,\n",
       "                                                   &#x27;available_quantity&#x27;,\n",
       "                                                   &#x27;installment_quantity&#x27;,\n",
       "                                                   &#x27;installment_rate&#x27;,\n",
       "                                                   &#x27;days_until_discount_end&#x27;,\n",
       "                                                   &#x27;msi&#x27;, &#x27;discount&#x27;]),\n",
       "                                                 (&#x27;cat&#x27;,\n",
       "                                                  OneHotEncoder(handle_unknown=&#x27;ignore&#x27;),\n",
       "                                                  [&#x27;buying_mode&#x27;, &#x27;query&#x27;,\n",
       "                                                   &#x27;condition&#x27;, &#x27;brand&#x27;,\n",
       "                                                   &#x27;domain_id&#x27;,\n",
       "                                                   &#x27;listing_type_id&#x27;,\n",
       "                                                   &#x27;is_official_store&#x27;,\n",
       "                                                   &#x27;free_shipping&#x27;,\n",
       "                                                   &#x27;store_pick_up&#x27;])])),\n",
       "                (&#x27;scaler&#x27;, StandardScaler(with_mean=False)),\n",
       "                (&#x27;model&#x27;, RandomForestRegressor(random_state=42))])</pre><b>In a Jupyter environment, please rerun this cell to show the HTML representation or trust the notebook. <br />On GitHub, the HTML representation is unable to render, please try loading this page with nbviewer.org.</b></div><div class=\"sk-container\" hidden><div class=\"sk-item sk-dashed-wrapped\"><div class=\"sk-label-container\"><div class=\"sk-label sk-toggleable\"><input class=\"sk-toggleable__control sk-hidden--visually\" id=\"sk-estimator-id-1\" type=\"checkbox\" ><label for=\"sk-estimator-id-1\" class=\"sk-toggleable__label sk-toggleable__label-arrow\">Pipeline</label><div class=\"sk-toggleable__content\"><pre>Pipeline(steps=[(&#x27;preprocessor&#x27;,\n",
       "                 ColumnTransformer(transformers=[(&#x27;num&#x27;,\n",
       "                                                  SimpleImputer(strategy=&#x27;median&#x27;),\n",
       "                                                  [&#x27;price&#x27;, &#x27;initial_quantity&#x27;,\n",
       "                                                   &#x27;available_quantity&#x27;,\n",
       "                                                   &#x27;installment_quantity&#x27;,\n",
       "                                                   &#x27;installment_rate&#x27;,\n",
       "                                                   &#x27;days_until_discount_end&#x27;,\n",
       "                                                   &#x27;msi&#x27;, &#x27;discount&#x27;]),\n",
       "                                                 (&#x27;cat&#x27;,\n",
       "                                                  OneHotEncoder(handle_unknown=&#x27;ignore&#x27;),\n",
       "                                                  [&#x27;buying_mode&#x27;, &#x27;query&#x27;,\n",
       "                                                   &#x27;condition&#x27;, &#x27;brand&#x27;,\n",
       "                                                   &#x27;domain_id&#x27;,\n",
       "                                                   &#x27;listing_type_id&#x27;,\n",
       "                                                   &#x27;is_official_store&#x27;,\n",
       "                                                   &#x27;free_shipping&#x27;,\n",
       "                                                   &#x27;store_pick_up&#x27;])])),\n",
       "                (&#x27;scaler&#x27;, StandardScaler(with_mean=False)),\n",
       "                (&#x27;model&#x27;, RandomForestRegressor(random_state=42))])</pre></div></div></div><div class=\"sk-serial\"><div class=\"sk-item sk-dashed-wrapped\"><div class=\"sk-label-container\"><div class=\"sk-label sk-toggleable\"><input class=\"sk-toggleable__control sk-hidden--visually\" id=\"sk-estimator-id-2\" type=\"checkbox\" ><label for=\"sk-estimator-id-2\" class=\"sk-toggleable__label sk-toggleable__label-arrow\">preprocessor: ColumnTransformer</label><div class=\"sk-toggleable__content\"><pre>ColumnTransformer(transformers=[(&#x27;num&#x27;, SimpleImputer(strategy=&#x27;median&#x27;),\n",
       "                                 [&#x27;price&#x27;, &#x27;initial_quantity&#x27;,\n",
       "                                  &#x27;available_quantity&#x27;, &#x27;installment_quantity&#x27;,\n",
       "                                  &#x27;installment_rate&#x27;, &#x27;days_until_discount_end&#x27;,\n",
       "                                  &#x27;msi&#x27;, &#x27;discount&#x27;]),\n",
       "                                (&#x27;cat&#x27;, OneHotEncoder(handle_unknown=&#x27;ignore&#x27;),\n",
       "                                 [&#x27;buying_mode&#x27;, &#x27;query&#x27;, &#x27;condition&#x27;, &#x27;brand&#x27;,\n",
       "                                  &#x27;domain_id&#x27;, &#x27;listing_type_id&#x27;,\n",
       "                                  &#x27;is_official_store&#x27;, &#x27;free_shipping&#x27;,\n",
       "                                  &#x27;store_pick_up&#x27;])])</pre></div></div></div><div class=\"sk-parallel\"><div class=\"sk-parallel-item\"><div class=\"sk-item\"><div class=\"sk-label-container\"><div class=\"sk-label sk-toggleable\"><input class=\"sk-toggleable__control sk-hidden--visually\" id=\"sk-estimator-id-3\" type=\"checkbox\" ><label for=\"sk-estimator-id-3\" class=\"sk-toggleable__label sk-toggleable__label-arrow\">num</label><div class=\"sk-toggleable__content\"><pre>[&#x27;price&#x27;, &#x27;initial_quantity&#x27;, &#x27;available_quantity&#x27;, &#x27;installment_quantity&#x27;, &#x27;installment_rate&#x27;, &#x27;days_until_discount_end&#x27;, &#x27;msi&#x27;, &#x27;discount&#x27;]</pre></div></div></div><div class=\"sk-serial\"><div class=\"sk-item\"><div class=\"sk-estimator sk-toggleable\"><input class=\"sk-toggleable__control sk-hidden--visually\" id=\"sk-estimator-id-4\" type=\"checkbox\" ><label for=\"sk-estimator-id-4\" class=\"sk-toggleable__label sk-toggleable__label-arrow\">SimpleImputer</label><div class=\"sk-toggleable__content\"><pre>SimpleImputer(strategy=&#x27;median&#x27;)</pre></div></div></div></div></div></div><div class=\"sk-parallel-item\"><div class=\"sk-item\"><div class=\"sk-label-container\"><div class=\"sk-label sk-toggleable\"><input class=\"sk-toggleable__control sk-hidden--visually\" id=\"sk-estimator-id-5\" type=\"checkbox\" ><label for=\"sk-estimator-id-5\" class=\"sk-toggleable__label sk-toggleable__label-arrow\">cat</label><div class=\"sk-toggleable__content\"><pre>[&#x27;buying_mode&#x27;, &#x27;query&#x27;, &#x27;condition&#x27;, &#x27;brand&#x27;, &#x27;domain_id&#x27;, &#x27;listing_type_id&#x27;, &#x27;is_official_store&#x27;, &#x27;free_shipping&#x27;, &#x27;store_pick_up&#x27;]</pre></div></div></div><div class=\"sk-serial\"><div class=\"sk-item\"><div class=\"sk-estimator sk-toggleable\"><input class=\"sk-toggleable__control sk-hidden--visually\" id=\"sk-estimator-id-6\" type=\"checkbox\" ><label for=\"sk-estimator-id-6\" class=\"sk-toggleable__label sk-toggleable__label-arrow\">OneHotEncoder</label><div class=\"sk-toggleable__content\"><pre>OneHotEncoder(handle_unknown=&#x27;ignore&#x27;)</pre></div></div></div></div></div></div></div></div><div class=\"sk-item\"><div class=\"sk-estimator sk-toggleable\"><input class=\"sk-toggleable__control sk-hidden--visually\" id=\"sk-estimator-id-7\" type=\"checkbox\" ><label for=\"sk-estimator-id-7\" class=\"sk-toggleable__label sk-toggleable__label-arrow\">StandardScaler</label><div class=\"sk-toggleable__content\"><pre>StandardScaler(with_mean=False)</pre></div></div></div><div class=\"sk-item\"><div class=\"sk-estimator sk-toggleable\"><input class=\"sk-toggleable__control sk-hidden--visually\" id=\"sk-estimator-id-8\" type=\"checkbox\" ><label for=\"sk-estimator-id-8\" class=\"sk-toggleable__label sk-toggleable__label-arrow\">RandomForestRegressor</label><div class=\"sk-toggleable__content\"><pre>RandomForestRegressor(random_state=42)</pre></div></div></div></div></div></div></div>"
      ],
      "text/plain": [
       "Pipeline(steps=[('preprocessor',\n",
       "                 ColumnTransformer(transformers=[('num',\n",
       "                                                  SimpleImputer(strategy='median'),\n",
       "                                                  ['price', 'initial_quantity',\n",
       "                                                   'available_quantity',\n",
       "                                                   'installment_quantity',\n",
       "                                                   'installment_rate',\n",
       "                                                   'days_until_discount_end',\n",
       "                                                   'msi', 'discount']),\n",
       "                                                 ('cat',\n",
       "                                                  OneHotEncoder(handle_unknown='ignore'),\n",
       "                                                  ['buying_mode', 'query',\n",
       "                                                   'condition', 'brand',\n",
       "                                                   'domain_id',\n",
       "                                                   'listing_type_id',\n",
       "                                                   'is_official_store',\n",
       "                                                   'free_shipping',\n",
       "                                                   'store_pick_up'])])),\n",
       "                ('scaler', StandardScaler(with_mean=False)),\n",
       "                ('model', RandomForestRegressor(random_state=42))])"
      ]
     },
     "execution_count": 10,
     "metadata": {},
     "output_type": "execute_result"
    }
   ],
   "source": [
    "rf_pipeline"
   ]
  },
  {
   "cell_type": "code",
   "execution_count": 39,
   "id": "44861b44",
   "metadata": {
    "hidden": true
   },
   "outputs": [
    {
     "data": {
      "text/html": [
       "<div>\n",
       "<style scoped>\n",
       "    .dataframe tbody tr th:only-of-type {\n",
       "        vertical-align: middle;\n",
       "    }\n",
       "\n",
       "    .dataframe tbody tr th {\n",
       "        vertical-align: top;\n",
       "    }\n",
       "\n",
       "    .dataframe thead th {\n",
       "        text-align: right;\n",
       "    }\n",
       "</style>\n",
       "<table border=\"1\" class=\"dataframe\">\n",
       "  <thead>\n",
       "    <tr style=\"text-align: right;\">\n",
       "      <th></th>\n",
       "      <th>train_MSE</th>\n",
       "      <th>train_RMSE</th>\n",
       "      <th>train_MAE</th>\n",
       "      <th>train_R2</th>\n",
       "      <th>test_MSE</th>\n",
       "      <th>test_RMSE</th>\n",
       "      <th>test_MAE</th>\n",
       "      <th>test_R2</th>\n",
       "      <th>Model</th>\n",
       "      <th>Best_Params</th>\n",
       "    </tr>\n",
       "  </thead>\n",
       "  <tbody>\n",
       "    <tr>\n",
       "      <th>0</th>\n",
       "      <td>780,095.14</td>\n",
       "      <td>883.23</td>\n",
       "      <td>77.72</td>\n",
       "      <td>0.99</td>\n",
       "      <td>46,752.75</td>\n",
       "      <td>216.22</td>\n",
       "      <td>58.22</td>\n",
       "      <td>1.00</td>\n",
       "      <td>Random Forest</td>\n",
       "      <td>{'model__max_depth': 30, 'model__min_samples_s...</td>\n",
       "    </tr>\n",
       "  </tbody>\n",
       "</table>\n",
       "</div>"
      ],
      "text/plain": [
       "   train_MSE  train_RMSE  train_MAE  train_R2  test_MSE  test_RMSE  test_MAE  \\\n",
       "0 780,095.14      883.23      77.72      0.99 46,752.75     216.22     58.22   \n",
       "\n",
       "   test_R2          Model                                        Best_Params  \n",
       "0     1.00  Random Forest  {'model__max_depth': 30, 'model__min_samples_s...  "
      ]
     },
     "execution_count": 39,
     "metadata": {},
     "output_type": "execute_result"
    }
   ],
   "source": [
    "rf_results_df"
   ]
  },
  {
   "cell_type": "code",
   "execution_count": 14,
   "id": "4c9b7787",
   "metadata": {
    "hidden": true,
    "scrolled": false
   },
   "outputs": [
    {
     "name": "stdout",
     "output_type": "stream",
     "text": [
      "|   iter    |  target   | max_depth | min_sa... | n_esti... |\n",
      "-------------------------------------------------------------\n",
      "| \u001b[39m1        \u001b[39m | \u001b[39m-7.059e+0\u001b[39m | \u001b[39m17.49    \u001b[39m | \u001b[39m9.606    \u001b[39m | \u001b[39m246.4    \u001b[39m |\n",
      "| \u001b[35m2        \u001b[39m | \u001b[35m-4.75e+06\u001b[39m | \u001b[35m21.97    \u001b[39m | \u001b[35m3.248    \u001b[39m | \u001b[35m131.2    \u001b[39m |\n",
      "| \u001b[39m3        \u001b[39m | \u001b[39m-6.496e+0\u001b[39m | \u001b[39m11.16    \u001b[39m | \u001b[39m8.929    \u001b[39m | \u001b[39m220.2    \u001b[39m |\n",
      "| \u001b[39m4        \u001b[39m | \u001b[39m-4.874e+0\u001b[39m | \u001b[39m24.16    \u001b[39m | \u001b[39m2.165    \u001b[39m | \u001b[39m294.0    \u001b[39m |\n",
      "| \u001b[39m5        \u001b[39m | \u001b[39m-5.471e+0\u001b[39m | \u001b[39m26.65    \u001b[39m | \u001b[39m3.699    \u001b[39m | \u001b[39m136.4    \u001b[39m |\n",
      "| \u001b[35m6        \u001b[39m | \u001b[35m-4.673e+0\u001b[39m | \u001b[35m12.7     \u001b[39m | \u001b[35m2.354    \u001b[39m | \u001b[35m120.9    \u001b[39m |\n",
      "| \u001b[39m7        \u001b[39m | \u001b[39m-6.812e+0\u001b[39m | \u001b[39m30.0     \u001b[39m | \u001b[39m7.69     \u001b[39m | \u001b[39m110.9    \u001b[39m |\n",
      "| \u001b[39m8        \u001b[39m | \u001b[39m-5.245e+0\u001b[39m | \u001b[39m13.73    \u001b[39m | \u001b[39m2.532    \u001b[39m | \u001b[39m121.6    \u001b[39m |\n",
      "| \u001b[39m9        \u001b[39m | \u001b[39m-5.339e+0\u001b[39m | \u001b[39m10.33    \u001b[39m | \u001b[39m2.0      \u001b[39m | \u001b[39m119.4    \u001b[39m |\n",
      "| \u001b[39m10       \u001b[39m | \u001b[39m-5.27e+06\u001b[39m | \u001b[39m13.61    \u001b[39m | \u001b[39m2.0      \u001b[39m | \u001b[39m118.4    \u001b[39m |\n",
      "| \u001b[39m11       \u001b[39m | \u001b[39m-5.994e+0\u001b[39m | \u001b[39m23.96    \u001b[39m | \u001b[39m5.408    \u001b[39m | \u001b[39m131.4    \u001b[39m |\n",
      "| \u001b[39m12       \u001b[39m | \u001b[39m-4.725e+0\u001b[39m | \u001b[39m20.09    \u001b[39m | \u001b[39m2.0      \u001b[39m | \u001b[39m131.0    \u001b[39m |\n",
      "| \u001b[39m13       \u001b[39m | \u001b[39m-4.757e+0\u001b[39m | \u001b[39m21.1     \u001b[39m | \u001b[39m2.0      \u001b[39m | \u001b[39m133.7    \u001b[39m |\n",
      "| \u001b[39m14       \u001b[39m | \u001b[39m-4.74e+06\u001b[39m | \u001b[39m18.96    \u001b[39m | \u001b[39m4.454    \u001b[39m | \u001b[39m132.8    \u001b[39m |\n",
      "| \u001b[39m15       \u001b[39m | \u001b[39m-4.963e+0\u001b[39m | \u001b[39m17.05    \u001b[39m | \u001b[39m2.0      \u001b[39m | \u001b[39m134.5    \u001b[39m |\n",
      "| \u001b[39m16       \u001b[39m | \u001b[39m-5.019e+0\u001b[39m | \u001b[39m18.4     \u001b[39m | \u001b[39m4.881    \u001b[39m | \u001b[39m128.9    \u001b[39m |\n",
      "| \u001b[39m17       \u001b[39m | \u001b[39m-4.88e+06\u001b[39m | \u001b[39m10.23    \u001b[39m | \u001b[39m2.0      \u001b[39m | \u001b[39m123.7    \u001b[39m |\n",
      "| \u001b[39m18       \u001b[39m | \u001b[39m-5.519e+0\u001b[39m | \u001b[39m10.8     \u001b[39m | \u001b[39m5.679    \u001b[39m | \u001b[39m121.9    \u001b[39m |\n",
      "| \u001b[35m19       \u001b[39m | \u001b[35m-4.56e+06\u001b[39m | \u001b[35m19.37    \u001b[39m | \u001b[35m4.638    \u001b[39m | \u001b[35m137.0    \u001b[39m |\n",
      "| \u001b[39m20       \u001b[39m | \u001b[39m-5.803e+0\u001b[39m | \u001b[39m16.73    \u001b[39m | \u001b[39m6.729    \u001b[39m | \u001b[39m136.2    \u001b[39m |\n",
      "| \u001b[39m21       \u001b[39m | \u001b[39m-5.003e+0\u001b[39m | \u001b[39m20.18    \u001b[39m | \u001b[39m2.0      \u001b[39m | \u001b[39m137.8    \u001b[39m |\n",
      "| \u001b[39m22       \u001b[39m | \u001b[39m-5.06e+06\u001b[39m | \u001b[39m21.64    \u001b[39m | \u001b[39m4.975    \u001b[39m | \u001b[39m136.0    \u001b[39m |\n",
      "| \u001b[39m23       \u001b[39m | \u001b[39m-5.837e+0\u001b[39m | \u001b[39m20.06    \u001b[39m | \u001b[39m5.239    \u001b[39m | \u001b[39m140.1    \u001b[39m |\n",
      "| \u001b[39m24       \u001b[39m | \u001b[39m-4.681e+0\u001b[39m | \u001b[39m21.56    \u001b[39m | \u001b[39m2.0      \u001b[39m | \u001b[39m128.1    \u001b[39m |\n",
      "| \u001b[39m25       \u001b[39m | \u001b[39m-5.719e+0\u001b[39m | \u001b[39m21.22    \u001b[39m | \u001b[39m3.711    \u001b[39m | \u001b[39m125.2    \u001b[39m |\n",
      "| \u001b[39m26       \u001b[39m | \u001b[39m-4.77e+06\u001b[39m | \u001b[39m19.34    \u001b[39m | \u001b[39m3.377    \u001b[39m | \u001b[39m135.3    \u001b[39m |\n",
      "| \u001b[35m27       \u001b[39m | \u001b[35m-4.204e+0\u001b[39m | \u001b[35m16.14    \u001b[39m | \u001b[35m2.0      \u001b[39m | \u001b[35m130.5    \u001b[39m |\n",
      "| \u001b[39m28       \u001b[39m | \u001b[39m-4.349e+0\u001b[39m | \u001b[39m13.71    \u001b[39m | \u001b[39m2.0      \u001b[39m | \u001b[39m130.0    \u001b[39m |\n",
      "| \u001b[39m29       \u001b[39m | \u001b[39m-4.62e+06\u001b[39m | \u001b[39m14.83    \u001b[39m | \u001b[39m4.219    \u001b[39m | \u001b[39m131.0    \u001b[39m |\n",
      "| \u001b[39m30       \u001b[39m | \u001b[39m-4.962e+0\u001b[39m | \u001b[39m15.51    \u001b[39m | \u001b[39m2.0      \u001b[39m | \u001b[39m128.0    \u001b[39m |\n",
      "=============================================================\n",
      "Training Scores:  [-7059327.673306659, -4750011.623653272, -6495830.872351421, -4874463.386674593, -5470918.497989395, -4672728.873273062, -6811995.58031703, -5245226.230795825, -5339090.358833266, -5270386.505392403, -5994323.872217656, -4724512.576268864, -4757414.375261686, -4739841.966587402, -4963447.3920273315, -5019159.796272835, -4879527.535747088, -5518757.424450261, -4560003.046196208, -5802651.498084617, -5003200.567185605, -5060282.225368927, -5836706.413039523, -4681444.966118148, -5719486.78312112, -4770156.135161497, -4204434.715986966, -4348927.13983589, -4619968.194080921, -4962000.624670863]\n",
      "Testing Scores:  [-1193864.2475266177, -157195.85339904076, -1459080.9127561678, -161803.1539048234, -80314.48555067899, -94606.42742678359, -913314.6104696537, -126485.92981550735, -103568.15648395955, -286638.9209779385, -121321.02319487568, -59370.12176211583, -38720.622294827364, -90150.78405885998, -58253.520699858454, -86130.23918811054, -37691.51800642706, -238977.42420071398, -132398.947521411, -170362.77077871683, -71767.88558752424, -78819.4439931212, -126376.45705112726, -275897.63573847566, -124994.27823109465, -140276.22106972587, -59198.66896316645, -77554.22350157659, -118045.08941053212, -51831.77613429176]\n"
     ]
    }
   ],
   "source": [
    "rf_param_bounds = {\n",
    "    'n_estimators': (100, 300),\n",
    "    'max_depth': (10, 30),\n",
    "    'min_samples_split': (2, 10)\n",
    "}\n",
    "\n",
    "best_params_rf, train_scores_rf, test_scores_rf = bayesian_optimization(\n",
    "    RandomForestRegressor, \n",
    "    rf_param_bounds, \n",
    "    X_train, y_train, \n",
    "    X_test, y_test, \n",
    "    categorical_features, numerical_features\n",
    ")"
   ]
  },
  {
   "cell_type": "code",
   "execution_count": 29,
   "id": "4b5abb8d",
   "metadata": {
    "hidden": true
   },
   "outputs": [
    {
     "data": {
      "text/html": [
       "<div>\n",
       "<style scoped>\n",
       "    .dataframe tbody tr th:only-of-type {\n",
       "        vertical-align: middle;\n",
       "    }\n",
       "\n",
       "    .dataframe tbody tr th {\n",
       "        vertical-align: top;\n",
       "    }\n",
       "\n",
       "    .dataframe thead th {\n",
       "        text-align: right;\n",
       "    }\n",
       "</style>\n",
       "<table border=\"1\" class=\"dataframe\">\n",
       "  <thead>\n",
       "    <tr style=\"text-align: right;\">\n",
       "      <th></th>\n",
       "      <th>train</th>\n",
       "      <th>test</th>\n",
       "    </tr>\n",
       "  </thead>\n",
       "  <tbody>\n",
       "    <tr>\n",
       "      <th>5</th>\n",
       "      <td>-4,672,728.87</td>\n",
       "      <td>-94,606.43</td>\n",
       "    </tr>\n",
       "    <tr>\n",
       "      <th>18</th>\n",
       "      <td>-4,560,003.05</td>\n",
       "      <td>-132,398.95</td>\n",
       "    </tr>\n",
       "    <tr>\n",
       "      <th>26</th>\n",
       "      <td>-4,204,434.72</td>\n",
       "      <td>-59,198.67</td>\n",
       "    </tr>\n",
       "  </tbody>\n",
       "</table>\n",
       "</div>"
      ],
      "text/plain": [
       "           train        test\n",
       "5  -4,672,728.87  -94,606.43\n",
       "18 -4,560,003.05 -132,398.95\n",
       "26 -4,204,434.72  -59,198.67"
      ]
     },
     "execution_count": 29,
     "metadata": {},
     "output_type": "execute_result"
    }
   ],
   "source": [
    "show_training(train_scores_rf, test_scores_rf).loc[[5, 18, 26]]"
   ]
  },
  {
   "cell_type": "markdown",
   "id": "48d2935c",
   "metadata": {
    "hidden": true
   },
   "source": [
    "Se muestra un valor bastante inusual pues en los parametros que se obtuvo menor error para el training set, el test set tuvo errores muy pequeños "
   ]
  },
  {
   "cell_type": "code",
   "execution_count": 15,
   "id": "e03e1e84",
   "metadata": {
    "hidden": true
   },
   "outputs": [
    {
     "data": {
      "text/html": [
       "<style>#sk-container-id-2 {color: black;}#sk-container-id-2 pre{padding: 0;}#sk-container-id-2 div.sk-toggleable {background-color: white;}#sk-container-id-2 label.sk-toggleable__label {cursor: pointer;display: block;width: 100%;margin-bottom: 0;padding: 0.3em;box-sizing: border-box;text-align: center;}#sk-container-id-2 label.sk-toggleable__label-arrow:before {content: \"▸\";float: left;margin-right: 0.25em;color: #696969;}#sk-container-id-2 label.sk-toggleable__label-arrow:hover:before {color: black;}#sk-container-id-2 div.sk-estimator:hover label.sk-toggleable__label-arrow:before {color: black;}#sk-container-id-2 div.sk-toggleable__content {max-height: 0;max-width: 0;overflow: hidden;text-align: left;background-color: #f0f8ff;}#sk-container-id-2 div.sk-toggleable__content pre {margin: 0.2em;color: black;border-radius: 0.25em;background-color: #f0f8ff;}#sk-container-id-2 input.sk-toggleable__control:checked~div.sk-toggleable__content {max-height: 200px;max-width: 100%;overflow: auto;}#sk-container-id-2 input.sk-toggleable__control:checked~label.sk-toggleable__label-arrow:before {content: \"▾\";}#sk-container-id-2 div.sk-estimator input.sk-toggleable__control:checked~label.sk-toggleable__label {background-color: #d4ebff;}#sk-container-id-2 div.sk-label input.sk-toggleable__control:checked~label.sk-toggleable__label {background-color: #d4ebff;}#sk-container-id-2 input.sk-hidden--visually {border: 0;clip: rect(1px 1px 1px 1px);clip: rect(1px, 1px, 1px, 1px);height: 1px;margin: -1px;overflow: hidden;padding: 0;position: absolute;width: 1px;}#sk-container-id-2 div.sk-estimator {font-family: monospace;background-color: #f0f8ff;border: 1px dotted black;border-radius: 0.25em;box-sizing: border-box;margin-bottom: 0.5em;}#sk-container-id-2 div.sk-estimator:hover {background-color: #d4ebff;}#sk-container-id-2 div.sk-parallel-item::after {content: \"\";width: 100%;border-bottom: 1px solid gray;flex-grow: 1;}#sk-container-id-2 div.sk-label:hover label.sk-toggleable__label {background-color: #d4ebff;}#sk-container-id-2 div.sk-serial::before {content: \"\";position: absolute;border-left: 1px solid gray;box-sizing: border-box;top: 0;bottom: 0;left: 50%;z-index: 0;}#sk-container-id-2 div.sk-serial {display: flex;flex-direction: column;align-items: center;background-color: white;padding-right: 0.2em;padding-left: 0.2em;position: relative;}#sk-container-id-2 div.sk-item {position: relative;z-index: 1;}#sk-container-id-2 div.sk-parallel {display: flex;align-items: stretch;justify-content: center;background-color: white;position: relative;}#sk-container-id-2 div.sk-item::before, #sk-container-id-2 div.sk-parallel-item::before {content: \"\";position: absolute;border-left: 1px solid gray;box-sizing: border-box;top: 0;bottom: 0;left: 50%;z-index: -1;}#sk-container-id-2 div.sk-parallel-item {display: flex;flex-direction: column;z-index: 1;position: relative;background-color: white;}#sk-container-id-2 div.sk-parallel-item:first-child::after {align-self: flex-end;width: 50%;}#sk-container-id-2 div.sk-parallel-item:last-child::after {align-self: flex-start;width: 50%;}#sk-container-id-2 div.sk-parallel-item:only-child::after {width: 0;}#sk-container-id-2 div.sk-dashed-wrapped {border: 1px dashed gray;margin: 0 0.4em 0.5em 0.4em;box-sizing: border-box;padding-bottom: 0.4em;background-color: white;}#sk-container-id-2 div.sk-label label {font-family: monospace;font-weight: bold;display: inline-block;line-height: 1.2em;}#sk-container-id-2 div.sk-label-container {text-align: center;}#sk-container-id-2 div.sk-container {/* jupyter's `normalize.less` sets `[hidden] { display: none; }` but bootstrap.min.css set `[hidden] { display: none !important; }` so we also need the `!important` here to be able to override the default hidden behavior on the sphinx rendered scikit-learn.org. See: https://github.com/scikit-learn/scikit-learn/issues/21755 */display: inline-block !important;position: relative;}#sk-container-id-2 div.sk-text-repr-fallback {display: none;}</style><div id=\"sk-container-id-2\" class=\"sk-top-container\"><div class=\"sk-text-repr-fallback\"><pre>Pipeline(steps=[(&#x27;preprocessor&#x27;,\n",
       "                 ColumnTransformer(transformers=[(&#x27;num&#x27;,\n",
       "                                                  SimpleImputer(strategy=&#x27;median&#x27;),\n",
       "                                                  [&#x27;price&#x27;, &#x27;initial_quantity&#x27;,\n",
       "                                                   &#x27;available_quantity&#x27;,\n",
       "                                                   &#x27;installment_quantity&#x27;,\n",
       "                                                   &#x27;installment_rate&#x27;,\n",
       "                                                   &#x27;days_until_discount_end&#x27;,\n",
       "                                                   &#x27;msi&#x27;, &#x27;discount&#x27;]),\n",
       "                                                 (&#x27;cat&#x27;,\n",
       "                                                  OneHotEncoder(handle_unknown=&#x27;ignore&#x27;),\n",
       "                                                  [&#x27;buying_mode&#x27;, &#x27;query&#x27;,\n",
       "                                                   &#x27;condition&#x27;, &#x27;brand&#x27;,\n",
       "                                                   &#x27;domain_id&#x27;,\n",
       "                                                   &#x27;listing_...\n",
       "                              feature_types=None, gamma=None, grow_policy=None,\n",
       "                              importance_type=None,\n",
       "                              interaction_constraints=None, learning_rate=None,\n",
       "                              max_bin=None, max_cat_threshold=None,\n",
       "                              max_cat_to_onehot=None, max_delta_step=None,\n",
       "                              max_depth=None, max_leaves=None,\n",
       "                              min_child_weight=None, missing=nan,\n",
       "                              monotone_constraints=None, multi_strategy=None,\n",
       "                              n_estimators=None, n_jobs=None,\n",
       "                              num_parallel_tree=None, random_state=42, ...))])</pre><b>In a Jupyter environment, please rerun this cell to show the HTML representation or trust the notebook. <br />On GitHub, the HTML representation is unable to render, please try loading this page with nbviewer.org.</b></div><div class=\"sk-container\" hidden><div class=\"sk-item sk-dashed-wrapped\"><div class=\"sk-label-container\"><div class=\"sk-label sk-toggleable\"><input class=\"sk-toggleable__control sk-hidden--visually\" id=\"sk-estimator-id-9\" type=\"checkbox\" ><label for=\"sk-estimator-id-9\" class=\"sk-toggleable__label sk-toggleable__label-arrow\">Pipeline</label><div class=\"sk-toggleable__content\"><pre>Pipeline(steps=[(&#x27;preprocessor&#x27;,\n",
       "                 ColumnTransformer(transformers=[(&#x27;num&#x27;,\n",
       "                                                  SimpleImputer(strategy=&#x27;median&#x27;),\n",
       "                                                  [&#x27;price&#x27;, &#x27;initial_quantity&#x27;,\n",
       "                                                   &#x27;available_quantity&#x27;,\n",
       "                                                   &#x27;installment_quantity&#x27;,\n",
       "                                                   &#x27;installment_rate&#x27;,\n",
       "                                                   &#x27;days_until_discount_end&#x27;,\n",
       "                                                   &#x27;msi&#x27;, &#x27;discount&#x27;]),\n",
       "                                                 (&#x27;cat&#x27;,\n",
       "                                                  OneHotEncoder(handle_unknown=&#x27;ignore&#x27;),\n",
       "                                                  [&#x27;buying_mode&#x27;, &#x27;query&#x27;,\n",
       "                                                   &#x27;condition&#x27;, &#x27;brand&#x27;,\n",
       "                                                   &#x27;domain_id&#x27;,\n",
       "                                                   &#x27;listing_...\n",
       "                              feature_types=None, gamma=None, grow_policy=None,\n",
       "                              importance_type=None,\n",
       "                              interaction_constraints=None, learning_rate=None,\n",
       "                              max_bin=None, max_cat_threshold=None,\n",
       "                              max_cat_to_onehot=None, max_delta_step=None,\n",
       "                              max_depth=None, max_leaves=None,\n",
       "                              min_child_weight=None, missing=nan,\n",
       "                              monotone_constraints=None, multi_strategy=None,\n",
       "                              n_estimators=None, n_jobs=None,\n",
       "                              num_parallel_tree=None, random_state=42, ...))])</pre></div></div></div><div class=\"sk-serial\"><div class=\"sk-item sk-dashed-wrapped\"><div class=\"sk-label-container\"><div class=\"sk-label sk-toggleable\"><input class=\"sk-toggleable__control sk-hidden--visually\" id=\"sk-estimator-id-10\" type=\"checkbox\" ><label for=\"sk-estimator-id-10\" class=\"sk-toggleable__label sk-toggleable__label-arrow\">preprocessor: ColumnTransformer</label><div class=\"sk-toggleable__content\"><pre>ColumnTransformer(transformers=[(&#x27;num&#x27;, SimpleImputer(strategy=&#x27;median&#x27;),\n",
       "                                 [&#x27;price&#x27;, &#x27;initial_quantity&#x27;,\n",
       "                                  &#x27;available_quantity&#x27;, &#x27;installment_quantity&#x27;,\n",
       "                                  &#x27;installment_rate&#x27;, &#x27;days_until_discount_end&#x27;,\n",
       "                                  &#x27;msi&#x27;, &#x27;discount&#x27;]),\n",
       "                                (&#x27;cat&#x27;, OneHotEncoder(handle_unknown=&#x27;ignore&#x27;),\n",
       "                                 [&#x27;buying_mode&#x27;, &#x27;query&#x27;, &#x27;condition&#x27;, &#x27;brand&#x27;,\n",
       "                                  &#x27;domain_id&#x27;, &#x27;listing_type_id&#x27;,\n",
       "                                  &#x27;is_official_store&#x27;, &#x27;free_shipping&#x27;,\n",
       "                                  &#x27;store_pick_up&#x27;])])</pre></div></div></div><div class=\"sk-parallel\"><div class=\"sk-parallel-item\"><div class=\"sk-item\"><div class=\"sk-label-container\"><div class=\"sk-label sk-toggleable\"><input class=\"sk-toggleable__control sk-hidden--visually\" id=\"sk-estimator-id-11\" type=\"checkbox\" ><label for=\"sk-estimator-id-11\" class=\"sk-toggleable__label sk-toggleable__label-arrow\">num</label><div class=\"sk-toggleable__content\"><pre>[&#x27;price&#x27;, &#x27;initial_quantity&#x27;, &#x27;available_quantity&#x27;, &#x27;installment_quantity&#x27;, &#x27;installment_rate&#x27;, &#x27;days_until_discount_end&#x27;, &#x27;msi&#x27;, &#x27;discount&#x27;]</pre></div></div></div><div class=\"sk-serial\"><div class=\"sk-item\"><div class=\"sk-estimator sk-toggleable\"><input class=\"sk-toggleable__control sk-hidden--visually\" id=\"sk-estimator-id-12\" type=\"checkbox\" ><label for=\"sk-estimator-id-12\" class=\"sk-toggleable__label sk-toggleable__label-arrow\">SimpleImputer</label><div class=\"sk-toggleable__content\"><pre>SimpleImputer(strategy=&#x27;median&#x27;)</pre></div></div></div></div></div></div><div class=\"sk-parallel-item\"><div class=\"sk-item\"><div class=\"sk-label-container\"><div class=\"sk-label sk-toggleable\"><input class=\"sk-toggleable__control sk-hidden--visually\" id=\"sk-estimator-id-13\" type=\"checkbox\" ><label for=\"sk-estimator-id-13\" class=\"sk-toggleable__label sk-toggleable__label-arrow\">cat</label><div class=\"sk-toggleable__content\"><pre>[&#x27;buying_mode&#x27;, &#x27;query&#x27;, &#x27;condition&#x27;, &#x27;brand&#x27;, &#x27;domain_id&#x27;, &#x27;listing_type_id&#x27;, &#x27;is_official_store&#x27;, &#x27;free_shipping&#x27;, &#x27;store_pick_up&#x27;]</pre></div></div></div><div class=\"sk-serial\"><div class=\"sk-item\"><div class=\"sk-estimator sk-toggleable\"><input class=\"sk-toggleable__control sk-hidden--visually\" id=\"sk-estimator-id-14\" type=\"checkbox\" ><label for=\"sk-estimator-id-14\" class=\"sk-toggleable__label sk-toggleable__label-arrow\">OneHotEncoder</label><div class=\"sk-toggleable__content\"><pre>OneHotEncoder(handle_unknown=&#x27;ignore&#x27;)</pre></div></div></div></div></div></div></div></div><div class=\"sk-item\"><div class=\"sk-estimator sk-toggleable\"><input class=\"sk-toggleable__control sk-hidden--visually\" id=\"sk-estimator-id-15\" type=\"checkbox\" ><label for=\"sk-estimator-id-15\" class=\"sk-toggleable__label sk-toggleable__label-arrow\">StandardScaler</label><div class=\"sk-toggleable__content\"><pre>StandardScaler(with_mean=False)</pre></div></div></div><div class=\"sk-item\"><div class=\"sk-estimator sk-toggleable\"><input class=\"sk-toggleable__control sk-hidden--visually\" id=\"sk-estimator-id-16\" type=\"checkbox\" ><label for=\"sk-estimator-id-16\" class=\"sk-toggleable__label sk-toggleable__label-arrow\">XGBRegressor</label><div class=\"sk-toggleable__content\"><pre>XGBRegressor(base_score=None, booster=None, callbacks=None,\n",
       "             colsample_bylevel=None, colsample_bynode=None,\n",
       "             colsample_bytree=None, device=None, early_stopping_rounds=None,\n",
       "             enable_categorical=False, eval_metric=None, feature_types=None,\n",
       "             gamma=None, grow_policy=None, importance_type=None,\n",
       "             interaction_constraints=None, learning_rate=None, max_bin=None,\n",
       "             max_cat_threshold=None, max_cat_to_onehot=None,\n",
       "             max_delta_step=None, max_depth=None, max_leaves=None,\n",
       "             min_child_weight=None, missing=nan, monotone_constraints=None,\n",
       "             multi_strategy=None, n_estimators=None, n_jobs=None,\n",
       "             num_parallel_tree=None, random_state=42, ...)</pre></div></div></div></div></div></div></div>"
      ],
      "text/plain": [
       "Pipeline(steps=[('preprocessor',\n",
       "                 ColumnTransformer(transformers=[('num',\n",
       "                                                  SimpleImputer(strategy='median'),\n",
       "                                                  ['price', 'initial_quantity',\n",
       "                                                   'available_quantity',\n",
       "                                                   'installment_quantity',\n",
       "                                                   'installment_rate',\n",
       "                                                   'days_until_discount_end',\n",
       "                                                   'msi', 'discount']),\n",
       "                                                 ('cat',\n",
       "                                                  OneHotEncoder(handle_unknown='ignore'),\n",
       "                                                  ['buying_mode', 'query',\n",
       "                                                   'condition', 'brand',\n",
       "                                                   'domain_id',\n",
       "                                                   'listing_...\n",
       "                              feature_types=None, gamma=None, grow_policy=None,\n",
       "                              importance_type=None,\n",
       "                              interaction_constraints=None, learning_rate=None,\n",
       "                              max_bin=None, max_cat_threshold=None,\n",
       "                              max_cat_to_onehot=None, max_delta_step=None,\n",
       "                              max_depth=None, max_leaves=None,\n",
       "                              min_child_weight=None, missing=nan,\n",
       "                              monotone_constraints=None, multi_strategy=None,\n",
       "                              n_estimators=None, n_jobs=None,\n",
       "                              num_parallel_tree=None, random_state=42, ...))])"
      ]
     },
     "execution_count": 15,
     "metadata": {},
     "output_type": "execute_result"
    }
   ],
   "source": [
    "xgb_pipeline"
   ]
  },
  {
   "cell_type": "code",
   "execution_count": 16,
   "id": "43a1d120",
   "metadata": {
    "hidden": true
   },
   "outputs": [
    {
     "data": {
      "text/html": [
       "<div>\n",
       "<style scoped>\n",
       "    .dataframe tbody tr th:only-of-type {\n",
       "        vertical-align: middle;\n",
       "    }\n",
       "\n",
       "    .dataframe tbody tr th {\n",
       "        vertical-align: top;\n",
       "    }\n",
       "\n",
       "    .dataframe thead th {\n",
       "        text-align: right;\n",
       "    }\n",
       "</style>\n",
       "<table border=\"1\" class=\"dataframe\">\n",
       "  <thead>\n",
       "    <tr style=\"text-align: right;\">\n",
       "      <th></th>\n",
       "      <th>train_MSE</th>\n",
       "      <th>train_RMSE</th>\n",
       "      <th>train_MAE</th>\n",
       "      <th>train_R2</th>\n",
       "      <th>test_MSE</th>\n",
       "      <th>test_RMSE</th>\n",
       "      <th>test_MAE</th>\n",
       "      <th>test_R2</th>\n",
       "      <th>Model</th>\n",
       "      <th>Best_Params</th>\n",
       "    </tr>\n",
       "  </thead>\n",
       "  <tbody>\n",
       "    <tr>\n",
       "      <th>0</th>\n",
       "      <td>12.228746</td>\n",
       "      <td>3.496962</td>\n",
       "      <td>2.296329</td>\n",
       "      <td>1.0</td>\n",
       "      <td>1.125199e+06</td>\n",
       "      <td>1060.753851</td>\n",
       "      <td>168.668588</td>\n",
       "      <td>0.985683</td>\n",
       "      <td>XGBoost</td>\n",
       "      <td>{'model__learning_rate': 0.1, 'model__max_dept...</td>\n",
       "    </tr>\n",
       "  </tbody>\n",
       "</table>\n",
       "</div>"
      ],
      "text/plain": [
       "   train_MSE  train_RMSE  train_MAE  train_R2      test_MSE    test_RMSE  \\\n",
       "0  12.228746    3.496962   2.296329       1.0  1.125199e+06  1060.753851   \n",
       "\n",
       "     test_MAE   test_R2    Model  \\\n",
       "0  168.668588  0.985683  XGBoost   \n",
       "\n",
       "                                         Best_Params  \n",
       "0  {'model__learning_rate': 0.1, 'model__max_dept...  "
      ]
     },
     "execution_count": 16,
     "metadata": {},
     "output_type": "execute_result"
    }
   ],
   "source": [
    "xgb_results_df"
   ]
  },
  {
   "cell_type": "code",
   "execution_count": 17,
   "id": "5b69282a",
   "metadata": {
    "hidden": true
   },
   "outputs": [
    {
     "name": "stdout",
     "output_type": "stream",
     "text": [
      "|   iter    |  target   | learni... | max_depth | min_ch... | n_esti... |\n",
      "-------------------------------------------------------------------------\n",
      "| \u001b[39m1        \u001b[39m | \u001b[39m-5.923e+0\u001b[39m | \u001b[39m0.08116  \u001b[39m | \u001b[39m9.655    \u001b[39m | \u001b[39m4.66     \u001b[39m | \u001b[39m219.7    \u001b[39m |\n",
      "| \u001b[39m2        \u001b[39m | \u001b[39m-8.444e+0\u001b[39m | \u001b[39m0.03964  \u001b[39m | \u001b[39m4.092    \u001b[39m | \u001b[39m1.29     \u001b[39m | \u001b[39m273.2    \u001b[39m |\n",
      "| \u001b[39m3        \u001b[39m | \u001b[39m-8.97e+06\u001b[39m | \u001b[39m0.1242   \u001b[39m | \u001b[39m7.957    \u001b[39m | \u001b[39m1.103    \u001b[39m | \u001b[39m294.0    \u001b[39m |\n",
      "| \u001b[39m4        \u001b[39m | \u001b[39m-8.963e+0\u001b[39m | \u001b[39m0.1682   \u001b[39m | \u001b[39m4.486    \u001b[39m | \u001b[39m1.909    \u001b[39m | \u001b[39m136.7    \u001b[39m |\n",
      "| \u001b[39m5        \u001b[39m | \u001b[39m-6.046e+0\u001b[39m | \u001b[39m0.06781  \u001b[39m | \u001b[39m6.673    \u001b[39m | \u001b[39m3.16     \u001b[39m | \u001b[39m158.2    \u001b[39m |\n",
      "| \u001b[35m6        \u001b[39m | \u001b[35m-5.798e+0\u001b[39m | \u001b[35m0.06495  \u001b[39m | \u001b[35m8.536    \u001b[39m | \u001b[35m4.371    \u001b[39m | \u001b[35m219.7    \u001b[39m |\n",
      "| \u001b[39m7        \u001b[39m | \u001b[39m-1.24e+07\u001b[39m | \u001b[39m0.01     \u001b[39m | \u001b[39m3.0      \u001b[39m | \u001b[39m1.0      \u001b[39m | \u001b[39m204.9    \u001b[39m |\n",
      "| \u001b[35m8        \u001b[39m | \u001b[35m-5.177e+0\u001b[39m | \u001b[35m0.02003  \u001b[39m | \u001b[35m6.441    \u001b[39m | \u001b[35m4.949    \u001b[39m | \u001b[35m228.2    \u001b[39m |\n",
      "| \u001b[39m9        \u001b[39m | \u001b[39m-9.437e+0\u001b[39m | \u001b[39m0.2      \u001b[39m | \u001b[39m3.0      \u001b[39m | \u001b[39m1.0      \u001b[39m | \u001b[39m240.4    \u001b[39m |\n",
      "| \u001b[39m10       \u001b[39m | \u001b[39m-1.257e+0\u001b[39m | \u001b[39m0.2      \u001b[39m | \u001b[39m10.0     \u001b[39m | \u001b[39m6.0      \u001b[39m | \u001b[39m169.0    \u001b[39m |\n",
      "| \u001b[39m11       \u001b[39m | \u001b[39m-1.124e+0\u001b[39m | \u001b[39m0.01     \u001b[39m | \u001b[39m10.0     \u001b[39m | \u001b[39m1.0      \u001b[39m | \u001b[39m225.8    \u001b[39m |\n",
      "| \u001b[39m12       \u001b[39m | \u001b[39m-1.526e+0\u001b[39m | \u001b[39m0.0551   \u001b[39m | \u001b[39m5.133    \u001b[39m | \u001b[39m6.0      \u001b[39m | \u001b[39m225.6    \u001b[39m |\n",
      "| \u001b[39m13       \u001b[39m | \u001b[39m-7.931e+0\u001b[39m | \u001b[39m0.01     \u001b[39m | \u001b[39m6.956    \u001b[39m | \u001b[39m4.55     \u001b[39m | \u001b[39m229.4    \u001b[39m |\n",
      "| \u001b[39m14       \u001b[39m | \u001b[39m-5.851e+0\u001b[39m | \u001b[39m0.0786   \u001b[39m | \u001b[39m9.089    \u001b[39m | \u001b[39m4.386    \u001b[39m | \u001b[39m218.3    \u001b[39m |\n",
      "| \u001b[39m15       \u001b[39m | \u001b[39m-7.242e+0\u001b[39m | \u001b[39m0.2      \u001b[39m | \u001b[39m9.448    \u001b[39m | \u001b[39m2.866    \u001b[39m | \u001b[39m219.3    \u001b[39m |\n",
      "| \u001b[39m16       \u001b[39m | \u001b[39m-1.215e+0\u001b[39m | \u001b[39m0.2      \u001b[39m | \u001b[39m8.489    \u001b[39m | \u001b[39m6.0      \u001b[39m | \u001b[39m218.9    \u001b[39m |\n",
      "| \u001b[39m17       \u001b[39m | \u001b[39m-9.78e+06\u001b[39m | \u001b[39m0.01     \u001b[39m | \u001b[39m8.121    \u001b[39m | \u001b[39m3.502    \u001b[39m | \u001b[39m218.7    \u001b[39m |\n",
      "| \u001b[39m18       \u001b[39m | \u001b[39m-8.499e+0\u001b[39m | \u001b[39m0.01     \u001b[39m | \u001b[39m9.889    \u001b[39m | \u001b[39m4.04     \u001b[39m | \u001b[39m218.9    \u001b[39m |\n",
      "| \u001b[39m19       \u001b[39m | \u001b[39m-7.473e+0\u001b[39m | \u001b[39m0.2      \u001b[39m | \u001b[39m9.203    \u001b[39m | \u001b[39m3.953    \u001b[39m | \u001b[39m220.1    \u001b[39m |\n",
      "| \u001b[39m20       \u001b[39m | \u001b[39m-8.028e+0\u001b[39m | \u001b[39m0.01     \u001b[39m | \u001b[39m6.943    \u001b[39m | \u001b[39m4.398    \u001b[39m | \u001b[39m228.0    \u001b[39m |\n",
      "| \u001b[39m21       \u001b[39m | \u001b[39m-1.026e+0\u001b[39m | \u001b[39m0.01     \u001b[39m | \u001b[39m6.261    \u001b[39m | \u001b[39m5.557    \u001b[39m | \u001b[39m228.7    \u001b[39m |\n",
      "| \u001b[39m22       \u001b[39m | \u001b[39m-9.486e+0\u001b[39m | \u001b[39m0.1552   \u001b[39m | \u001b[39m6.033    \u001b[39m | \u001b[39m2.678    \u001b[39m | \u001b[39m208.1    \u001b[39m |\n",
      "| \u001b[39m23       \u001b[39m | \u001b[39m-6.806e+0\u001b[39m | \u001b[39m0.1817   \u001b[39m | \u001b[39m7.844    \u001b[39m | \u001b[39m3.345    \u001b[39m | \u001b[39m124.2    \u001b[39m |\n",
      "| \u001b[39m24       \u001b[39m | \u001b[39m-7.417e+0\u001b[39m | \u001b[39m0.09899  \u001b[39m | \u001b[39m6.305    \u001b[39m | \u001b[39m5.804    \u001b[39m | \u001b[39m240.1    \u001b[39m |\n",
      "| \u001b[39m25       \u001b[39m | \u001b[39m-7.192e+0\u001b[39m | \u001b[39m0.1198   \u001b[39m | \u001b[39m4.357    \u001b[39m | \u001b[39m5.981    \u001b[39m | \u001b[39m232.6    \u001b[39m |\n",
      "| \u001b[39m26       \u001b[39m | \u001b[39m-5.428e+0\u001b[39m | \u001b[39m0.04457  \u001b[39m | \u001b[39m6.164    \u001b[39m | \u001b[39m4.687    \u001b[39m | \u001b[39m228.0    \u001b[39m |\n",
      "| \u001b[39m27       \u001b[39m | \u001b[39m-7.535e+0\u001b[39m | \u001b[39m0.1577   \u001b[39m | \u001b[39m3.517    \u001b[39m | \u001b[39m5.181    \u001b[39m | \u001b[39m103.9    \u001b[39m |\n",
      "| \u001b[39m28       \u001b[39m | \u001b[39m-6.073e+0\u001b[39m | \u001b[39m0.09445  \u001b[39m | \u001b[39m9.069    \u001b[39m | \u001b[39m4.418    \u001b[39m | \u001b[39m218.3    \u001b[39m |\n",
      "| \u001b[39m29       \u001b[39m | \u001b[39m-8.384e+0\u001b[39m | \u001b[39m0.01     \u001b[39m | \u001b[39m9.003    \u001b[39m | \u001b[39m4.827    \u001b[39m | \u001b[39m220.0    \u001b[39m |\n",
      "| \u001b[39m30       \u001b[39m | \u001b[39m-8.673e+0\u001b[39m | \u001b[39m0.05542  \u001b[39m | \u001b[39m9.944    \u001b[39m | \u001b[39m1.621    \u001b[39m | \u001b[39m163.4    \u001b[39m |\n",
      "=========================================================================\n",
      "Training Scores:  [-5922778.166843067, -8443852.375780743, -8969840.547888372, -8963028.15007103, -6046144.181597011, -5797505.465109942, -12400638.592528228, -5176547.793737626, -9436600.349403994, -12565267.689999243, -11243164.971066386, -15259410.199674184, -7930821.2550248355, -5851408.623672007, -7241992.19480628, -12147654.212822923, -9780483.495866869, -8498720.860798838, -7472797.344371708, -8027790.435995564, -10258429.48487107, -9486296.99772645, -6806219.436115084, -7417261.216958681, -7191930.363664202, -5427834.096488244, -7535074.673488213, -6073006.37150529, -8384171.54198956, -8672983.997547928]\n",
      "Testing Scores:  [-1157929.0299690783, -1423409.0454824853, -1053349.1686640524, -1055718.0962891567, -1135468.1210098562, -1081120.0788106818, -4465374.03661813, -1197268.929325555, -662075.4091991422, -381792.7888286051, -2894086.281656566, -418328.0395283194, -3512796.579262334, -1149009.2836778425, -2576932.4332160493, -368269.4826361093, -3897399.3888724376, -3952887.4241126594, -1042480.7126220347, -3587697.7190619246, -1252295.538947801, -1667207.9517869246, -1073142.3324925476, -920007.2973094899, -1583431.9593802996, -1099377.8065765775, -593751.3682481662, -1367446.0831130014, -3865087.446609942, -744345.4468096531]\n"
     ]
    }
   ],
   "source": [
    "xgb_param_bounds = {\n",
    "    'n_estimators': (100, 300),\n",
    "    'max_depth': (3, 10),\n",
    "    'learning_rate': (0.01, 0.2),\n",
    "    'min_child_weight': (1, 6)\n",
    "}\n",
    "\n",
    "best_params_xgb, train_scores_xgb, test_scores_xgb = bayesian_optimization(\n",
    "    XGBRegressor,\n",
    "    xgb_param_bounds, \n",
    "    X_train, y_train, \n",
    "    X_test, y_test, \n",
    "    categorical_features, numerical_features\n",
    ")\n"
   ]
  },
  {
   "cell_type": "code",
   "execution_count": 31,
   "id": "484a114f",
   "metadata": {
    "hidden": true
   },
   "outputs": [
    {
     "data": {
      "text/html": [
       "<div>\n",
       "<style scoped>\n",
       "    .dataframe tbody tr th:only-of-type {\n",
       "        vertical-align: middle;\n",
       "    }\n",
       "\n",
       "    .dataframe tbody tr th {\n",
       "        vertical-align: top;\n",
       "    }\n",
       "\n",
       "    .dataframe thead th {\n",
       "        text-align: right;\n",
       "    }\n",
       "</style>\n",
       "<table border=\"1\" class=\"dataframe\">\n",
       "  <thead>\n",
       "    <tr style=\"text-align: right;\">\n",
       "      <th></th>\n",
       "      <th>train</th>\n",
       "      <th>test</th>\n",
       "    </tr>\n",
       "  </thead>\n",
       "  <tbody>\n",
       "    <tr>\n",
       "      <th>5</th>\n",
       "      <td>-5,797,505.47</td>\n",
       "      <td>-1,081,120.08</td>\n",
       "    </tr>\n",
       "    <tr>\n",
       "      <th>7</th>\n",
       "      <td>-5,176,547.79</td>\n",
       "      <td>-1,197,268.93</td>\n",
       "    </tr>\n",
       "  </tbody>\n",
       "</table>\n",
       "</div>"
      ],
      "text/plain": [
       "          train          test\n",
       "5 -5,797,505.47 -1,081,120.08\n",
       "7 -5,176,547.79 -1,197,268.93"
      ]
     },
     "execution_count": 31,
     "metadata": {},
     "output_type": "execute_result"
    }
   ],
   "source": [
    "show_training(train_scores_xgb, test_scores_xgb).loc[[5,7]]"
   ]
  },
  {
   "cell_type": "code",
   "execution_count": 18,
   "id": "37b1f07b",
   "metadata": {
    "hidden": true
   },
   "outputs": [
    {
     "data": {
      "text/html": [
       "<style>#sk-container-id-3 {color: black;}#sk-container-id-3 pre{padding: 0;}#sk-container-id-3 div.sk-toggleable {background-color: white;}#sk-container-id-3 label.sk-toggleable__label {cursor: pointer;display: block;width: 100%;margin-bottom: 0;padding: 0.3em;box-sizing: border-box;text-align: center;}#sk-container-id-3 label.sk-toggleable__label-arrow:before {content: \"▸\";float: left;margin-right: 0.25em;color: #696969;}#sk-container-id-3 label.sk-toggleable__label-arrow:hover:before {color: black;}#sk-container-id-3 div.sk-estimator:hover label.sk-toggleable__label-arrow:before {color: black;}#sk-container-id-3 div.sk-toggleable__content {max-height: 0;max-width: 0;overflow: hidden;text-align: left;background-color: #f0f8ff;}#sk-container-id-3 div.sk-toggleable__content pre {margin: 0.2em;color: black;border-radius: 0.25em;background-color: #f0f8ff;}#sk-container-id-3 input.sk-toggleable__control:checked~div.sk-toggleable__content {max-height: 200px;max-width: 100%;overflow: auto;}#sk-container-id-3 input.sk-toggleable__control:checked~label.sk-toggleable__label-arrow:before {content: \"▾\";}#sk-container-id-3 div.sk-estimator input.sk-toggleable__control:checked~label.sk-toggleable__label {background-color: #d4ebff;}#sk-container-id-3 div.sk-label input.sk-toggleable__control:checked~label.sk-toggleable__label {background-color: #d4ebff;}#sk-container-id-3 input.sk-hidden--visually {border: 0;clip: rect(1px 1px 1px 1px);clip: rect(1px, 1px, 1px, 1px);height: 1px;margin: -1px;overflow: hidden;padding: 0;position: absolute;width: 1px;}#sk-container-id-3 div.sk-estimator {font-family: monospace;background-color: #f0f8ff;border: 1px dotted black;border-radius: 0.25em;box-sizing: border-box;margin-bottom: 0.5em;}#sk-container-id-3 div.sk-estimator:hover {background-color: #d4ebff;}#sk-container-id-3 div.sk-parallel-item::after {content: \"\";width: 100%;border-bottom: 1px solid gray;flex-grow: 1;}#sk-container-id-3 div.sk-label:hover label.sk-toggleable__label {background-color: #d4ebff;}#sk-container-id-3 div.sk-serial::before {content: \"\";position: absolute;border-left: 1px solid gray;box-sizing: border-box;top: 0;bottom: 0;left: 50%;z-index: 0;}#sk-container-id-3 div.sk-serial {display: flex;flex-direction: column;align-items: center;background-color: white;padding-right: 0.2em;padding-left: 0.2em;position: relative;}#sk-container-id-3 div.sk-item {position: relative;z-index: 1;}#sk-container-id-3 div.sk-parallel {display: flex;align-items: stretch;justify-content: center;background-color: white;position: relative;}#sk-container-id-3 div.sk-item::before, #sk-container-id-3 div.sk-parallel-item::before {content: \"\";position: absolute;border-left: 1px solid gray;box-sizing: border-box;top: 0;bottom: 0;left: 50%;z-index: -1;}#sk-container-id-3 div.sk-parallel-item {display: flex;flex-direction: column;z-index: 1;position: relative;background-color: white;}#sk-container-id-3 div.sk-parallel-item:first-child::after {align-self: flex-end;width: 50%;}#sk-container-id-3 div.sk-parallel-item:last-child::after {align-self: flex-start;width: 50%;}#sk-container-id-3 div.sk-parallel-item:only-child::after {width: 0;}#sk-container-id-3 div.sk-dashed-wrapped {border: 1px dashed gray;margin: 0 0.4em 0.5em 0.4em;box-sizing: border-box;padding-bottom: 0.4em;background-color: white;}#sk-container-id-3 div.sk-label label {font-family: monospace;font-weight: bold;display: inline-block;line-height: 1.2em;}#sk-container-id-3 div.sk-label-container {text-align: center;}#sk-container-id-3 div.sk-container {/* jupyter's `normalize.less` sets `[hidden] { display: none; }` but bootstrap.min.css set `[hidden] { display: none !important; }` so we also need the `!important` here to be able to override the default hidden behavior on the sphinx rendered scikit-learn.org. See: https://github.com/scikit-learn/scikit-learn/issues/21755 */display: inline-block !important;position: relative;}#sk-container-id-3 div.sk-text-repr-fallback {display: none;}</style><div id=\"sk-container-id-3\" class=\"sk-top-container\"><div class=\"sk-text-repr-fallback\"><pre>Pipeline(steps=[(&#x27;preprocessor&#x27;,\n",
       "                 ColumnTransformer(transformers=[(&#x27;num&#x27;,\n",
       "                                                  SimpleImputer(strategy=&#x27;median&#x27;),\n",
       "                                                  [&#x27;price&#x27;, &#x27;initial_quantity&#x27;,\n",
       "                                                   &#x27;available_quantity&#x27;,\n",
       "                                                   &#x27;installment_quantity&#x27;,\n",
       "                                                   &#x27;installment_rate&#x27;,\n",
       "                                                   &#x27;days_until_discount_end&#x27;,\n",
       "                                                   &#x27;msi&#x27;, &#x27;discount&#x27;]),\n",
       "                                                 (&#x27;cat&#x27;,\n",
       "                                                  OneHotEncoder(handle_unknown=&#x27;ignore&#x27;),\n",
       "                                                  [&#x27;buying_mode&#x27;, &#x27;query&#x27;,\n",
       "                                                   &#x27;condition&#x27;, &#x27;brand&#x27;,\n",
       "                                                   &#x27;domain_id&#x27;,\n",
       "                                                   &#x27;listing_type_id&#x27;,\n",
       "                                                   &#x27;is_official_store&#x27;,\n",
       "                                                   &#x27;free_shipping&#x27;,\n",
       "                                                   &#x27;store_pick_up&#x27;])])),\n",
       "                (&#x27;scaler&#x27;, StandardScaler(with_mean=False)),\n",
       "                (&#x27;model&#x27;, LGBMRegressor(random_state=42, verbose=-1))])</pre><b>In a Jupyter environment, please rerun this cell to show the HTML representation or trust the notebook. <br />On GitHub, the HTML representation is unable to render, please try loading this page with nbviewer.org.</b></div><div class=\"sk-container\" hidden><div class=\"sk-item sk-dashed-wrapped\"><div class=\"sk-label-container\"><div class=\"sk-label sk-toggleable\"><input class=\"sk-toggleable__control sk-hidden--visually\" id=\"sk-estimator-id-17\" type=\"checkbox\" ><label for=\"sk-estimator-id-17\" class=\"sk-toggleable__label sk-toggleable__label-arrow\">Pipeline</label><div class=\"sk-toggleable__content\"><pre>Pipeline(steps=[(&#x27;preprocessor&#x27;,\n",
       "                 ColumnTransformer(transformers=[(&#x27;num&#x27;,\n",
       "                                                  SimpleImputer(strategy=&#x27;median&#x27;),\n",
       "                                                  [&#x27;price&#x27;, &#x27;initial_quantity&#x27;,\n",
       "                                                   &#x27;available_quantity&#x27;,\n",
       "                                                   &#x27;installment_quantity&#x27;,\n",
       "                                                   &#x27;installment_rate&#x27;,\n",
       "                                                   &#x27;days_until_discount_end&#x27;,\n",
       "                                                   &#x27;msi&#x27;, &#x27;discount&#x27;]),\n",
       "                                                 (&#x27;cat&#x27;,\n",
       "                                                  OneHotEncoder(handle_unknown=&#x27;ignore&#x27;),\n",
       "                                                  [&#x27;buying_mode&#x27;, &#x27;query&#x27;,\n",
       "                                                   &#x27;condition&#x27;, &#x27;brand&#x27;,\n",
       "                                                   &#x27;domain_id&#x27;,\n",
       "                                                   &#x27;listing_type_id&#x27;,\n",
       "                                                   &#x27;is_official_store&#x27;,\n",
       "                                                   &#x27;free_shipping&#x27;,\n",
       "                                                   &#x27;store_pick_up&#x27;])])),\n",
       "                (&#x27;scaler&#x27;, StandardScaler(with_mean=False)),\n",
       "                (&#x27;model&#x27;, LGBMRegressor(random_state=42, verbose=-1))])</pre></div></div></div><div class=\"sk-serial\"><div class=\"sk-item sk-dashed-wrapped\"><div class=\"sk-label-container\"><div class=\"sk-label sk-toggleable\"><input class=\"sk-toggleable__control sk-hidden--visually\" id=\"sk-estimator-id-18\" type=\"checkbox\" ><label for=\"sk-estimator-id-18\" class=\"sk-toggleable__label sk-toggleable__label-arrow\">preprocessor: ColumnTransformer</label><div class=\"sk-toggleable__content\"><pre>ColumnTransformer(transformers=[(&#x27;num&#x27;, SimpleImputer(strategy=&#x27;median&#x27;),\n",
       "                                 [&#x27;price&#x27;, &#x27;initial_quantity&#x27;,\n",
       "                                  &#x27;available_quantity&#x27;, &#x27;installment_quantity&#x27;,\n",
       "                                  &#x27;installment_rate&#x27;, &#x27;days_until_discount_end&#x27;,\n",
       "                                  &#x27;msi&#x27;, &#x27;discount&#x27;]),\n",
       "                                (&#x27;cat&#x27;, OneHotEncoder(handle_unknown=&#x27;ignore&#x27;),\n",
       "                                 [&#x27;buying_mode&#x27;, &#x27;query&#x27;, &#x27;condition&#x27;, &#x27;brand&#x27;,\n",
       "                                  &#x27;domain_id&#x27;, &#x27;listing_type_id&#x27;,\n",
       "                                  &#x27;is_official_store&#x27;, &#x27;free_shipping&#x27;,\n",
       "                                  &#x27;store_pick_up&#x27;])])</pre></div></div></div><div class=\"sk-parallel\"><div class=\"sk-parallel-item\"><div class=\"sk-item\"><div class=\"sk-label-container\"><div class=\"sk-label sk-toggleable\"><input class=\"sk-toggleable__control sk-hidden--visually\" id=\"sk-estimator-id-19\" type=\"checkbox\" ><label for=\"sk-estimator-id-19\" class=\"sk-toggleable__label sk-toggleable__label-arrow\">num</label><div class=\"sk-toggleable__content\"><pre>[&#x27;price&#x27;, &#x27;initial_quantity&#x27;, &#x27;available_quantity&#x27;, &#x27;installment_quantity&#x27;, &#x27;installment_rate&#x27;, &#x27;days_until_discount_end&#x27;, &#x27;msi&#x27;, &#x27;discount&#x27;]</pre></div></div></div><div class=\"sk-serial\"><div class=\"sk-item\"><div class=\"sk-estimator sk-toggleable\"><input class=\"sk-toggleable__control sk-hidden--visually\" id=\"sk-estimator-id-20\" type=\"checkbox\" ><label for=\"sk-estimator-id-20\" class=\"sk-toggleable__label sk-toggleable__label-arrow\">SimpleImputer</label><div class=\"sk-toggleable__content\"><pre>SimpleImputer(strategy=&#x27;median&#x27;)</pre></div></div></div></div></div></div><div class=\"sk-parallel-item\"><div class=\"sk-item\"><div class=\"sk-label-container\"><div class=\"sk-label sk-toggleable\"><input class=\"sk-toggleable__control sk-hidden--visually\" id=\"sk-estimator-id-21\" type=\"checkbox\" ><label for=\"sk-estimator-id-21\" class=\"sk-toggleable__label sk-toggleable__label-arrow\">cat</label><div class=\"sk-toggleable__content\"><pre>[&#x27;buying_mode&#x27;, &#x27;query&#x27;, &#x27;condition&#x27;, &#x27;brand&#x27;, &#x27;domain_id&#x27;, &#x27;listing_type_id&#x27;, &#x27;is_official_store&#x27;, &#x27;free_shipping&#x27;, &#x27;store_pick_up&#x27;]</pre></div></div></div><div class=\"sk-serial\"><div class=\"sk-item\"><div class=\"sk-estimator sk-toggleable\"><input class=\"sk-toggleable__control sk-hidden--visually\" id=\"sk-estimator-id-22\" type=\"checkbox\" ><label for=\"sk-estimator-id-22\" class=\"sk-toggleable__label sk-toggleable__label-arrow\">OneHotEncoder</label><div class=\"sk-toggleable__content\"><pre>OneHotEncoder(handle_unknown=&#x27;ignore&#x27;)</pre></div></div></div></div></div></div></div></div><div class=\"sk-item\"><div class=\"sk-estimator sk-toggleable\"><input class=\"sk-toggleable__control sk-hidden--visually\" id=\"sk-estimator-id-23\" type=\"checkbox\" ><label for=\"sk-estimator-id-23\" class=\"sk-toggleable__label sk-toggleable__label-arrow\">StandardScaler</label><div class=\"sk-toggleable__content\"><pre>StandardScaler(with_mean=False)</pre></div></div></div><div class=\"sk-item\"><div class=\"sk-estimator sk-toggleable\"><input class=\"sk-toggleable__control sk-hidden--visually\" id=\"sk-estimator-id-24\" type=\"checkbox\" ><label for=\"sk-estimator-id-24\" class=\"sk-toggleable__label sk-toggleable__label-arrow\">LGBMRegressor</label><div class=\"sk-toggleable__content\"><pre>LGBMRegressor(random_state=42, verbose=-1)</pre></div></div></div></div></div></div></div>"
      ],
      "text/plain": [
       "Pipeline(steps=[('preprocessor',\n",
       "                 ColumnTransformer(transformers=[('num',\n",
       "                                                  SimpleImputer(strategy='median'),\n",
       "                                                  ['price', 'initial_quantity',\n",
       "                                                   'available_quantity',\n",
       "                                                   'installment_quantity',\n",
       "                                                   'installment_rate',\n",
       "                                                   'days_until_discount_end',\n",
       "                                                   'msi', 'discount']),\n",
       "                                                 ('cat',\n",
       "                                                  OneHotEncoder(handle_unknown='ignore'),\n",
       "                                                  ['buying_mode', 'query',\n",
       "                                                   'condition', 'brand',\n",
       "                                                   'domain_id',\n",
       "                                                   'listing_type_id',\n",
       "                                                   'is_official_store',\n",
       "                                                   'free_shipping',\n",
       "                                                   'store_pick_up'])])),\n",
       "                ('scaler', StandardScaler(with_mean=False)),\n",
       "                ('model', LGBMRegressor(random_state=42, verbose=-1))])"
      ]
     },
     "execution_count": 18,
     "metadata": {},
     "output_type": "execute_result"
    }
   ],
   "source": [
    "lgbm_pipeline"
   ]
  },
  {
   "cell_type": "code",
   "execution_count": 19,
   "id": "68511181",
   "metadata": {
    "hidden": true
   },
   "outputs": [
    {
     "data": {
      "text/html": [
       "<div>\n",
       "<style scoped>\n",
       "    .dataframe tbody tr th:only-of-type {\n",
       "        vertical-align: middle;\n",
       "    }\n",
       "\n",
       "    .dataframe tbody tr th {\n",
       "        vertical-align: top;\n",
       "    }\n",
       "\n",
       "    .dataframe thead th {\n",
       "        text-align: right;\n",
       "    }\n",
       "</style>\n",
       "<table border=\"1\" class=\"dataframe\">\n",
       "  <thead>\n",
       "    <tr style=\"text-align: right;\">\n",
       "      <th></th>\n",
       "      <th>train_MSE</th>\n",
       "      <th>train_RMSE</th>\n",
       "      <th>train_MAE</th>\n",
       "      <th>train_R2</th>\n",
       "      <th>test_MSE</th>\n",
       "      <th>test_RMSE</th>\n",
       "      <th>test_MAE</th>\n",
       "      <th>test_R2</th>\n",
       "      <th>Model</th>\n",
       "      <th>Best_Params</th>\n",
       "    </tr>\n",
       "  </thead>\n",
       "  <tbody>\n",
       "    <tr>\n",
       "      <th>0</th>\n",
       "      <td>2.133257e+07</td>\n",
       "      <td>4618.719331</td>\n",
       "      <td>696.862142</td>\n",
       "      <td>0.799873</td>\n",
       "      <td>6.656173e+07</td>\n",
       "      <td>8158.537167</td>\n",
       "      <td>1499.357928</td>\n",
       "      <td>0.153091</td>\n",
       "      <td>LightGBM</td>\n",
       "      <td>{'model__learning_rate': 0.05, 'model__n_estim...</td>\n",
       "    </tr>\n",
       "  </tbody>\n",
       "</table>\n",
       "</div>"
      ],
      "text/plain": [
       "      train_MSE   train_RMSE   train_MAE  train_R2      test_MSE    test_RMSE  \\\n",
       "0  2.133257e+07  4618.719331  696.862142  0.799873  6.656173e+07  8158.537167   \n",
       "\n",
       "      test_MAE   test_R2     Model  \\\n",
       "0  1499.357928  0.153091  LightGBM   \n",
       "\n",
       "                                         Best_Params  \n",
       "0  {'model__learning_rate': 0.05, 'model__n_estim...  "
      ]
     },
     "execution_count": 19,
     "metadata": {},
     "output_type": "execute_result"
    }
   ],
   "source": [
    "lgbm_results_df"
   ]
  },
  {
   "cell_type": "code",
   "execution_count": 21,
   "id": "92b393ec",
   "metadata": {
    "hidden": true
   },
   "outputs": [
    {
     "name": "stdout",
     "output_type": "stream",
     "text": [
      "|   iter    |  target   | learni... | n_esti... | num_le... |\n",
      "-------------------------------------------------------------\n",
      "| \u001b[39m1        \u001b[39m | \u001b[39m-4.644e+0\u001b[39m | \u001b[39m0.08116  \u001b[39m | \u001b[39m290.1    \u001b[39m | \u001b[39m78.56    \u001b[39m |\n",
      "| \u001b[35m2        \u001b[39m | \u001b[35m-4.611e+0\u001b[39m | \u001b[35m0.1237   \u001b[39m | \u001b[35m131.2    \u001b[39m | \u001b[35m32.48    \u001b[39m |\n",
      "| \u001b[35m3        \u001b[39m | \u001b[35m-4.606e+0\u001b[39m | \u001b[35m0.02104  \u001b[39m | \u001b[35m273.2    \u001b[39m | \u001b[35m68.09    \u001b[39m |\n",
      "| \u001b[35m4        \u001b[39m | \u001b[35m-4.538e+0\u001b[39m | \u001b[35m0.1445   \u001b[39m | \u001b[35m104.1    \u001b[39m | \u001b[35m97.59    \u001b[39m |\n",
      "| \u001b[39m5        \u001b[39m | \u001b[39m-4.648e+0\u001b[39m | \u001b[39m0.1682   \u001b[39m | \u001b[39m142.5    \u001b[39m | \u001b[39m34.55    \u001b[39m |\n",
      "| \u001b[39m6        \u001b[39m | \u001b[39m-4.653e+0\u001b[39m | \u001b[39m0.1724   \u001b[39m | \u001b[39m100.1    \u001b[39m | \u001b[39m90.57    \u001b[39m |\n",
      "| \u001b[39m7        \u001b[39m | \u001b[39m-5.008e+0\u001b[39m | \u001b[39m0.1738   \u001b[39m | \u001b[39m205.6    \u001b[39m | \u001b[39m30.46    \u001b[39m |\n",
      "| \u001b[39m8        \u001b[39m | \u001b[39m-4.572e+0\u001b[39m | \u001b[39m0.1206   \u001b[39m | \u001b[39m102.8    \u001b[39m | \u001b[39m97.88    \u001b[39m |\n",
      "| \u001b[39m9        \u001b[39m | \u001b[39m-4.703e+0\u001b[39m | \u001b[39m0.2      \u001b[39m | \u001b[39m115.0    \u001b[39m | \u001b[39m98.97    \u001b[39m |\n",
      "| \u001b[39m10       \u001b[39m | \u001b[39m-5.461e+0\u001b[39m | \u001b[39m0.01     \u001b[39m | \u001b[39m108.8    \u001b[39m | \u001b[39m91.2     \u001b[39m |\n",
      "| \u001b[39m11       \u001b[39m | \u001b[39m-4.583e+0\u001b[39m | \u001b[39m0.05035  \u001b[39m | \u001b[39m136.7    \u001b[39m | \u001b[39m32.22    \u001b[39m |\n",
      "| \u001b[39m12       \u001b[39m | \u001b[39m-4.729e+0\u001b[39m | \u001b[39m0.2      \u001b[39m | \u001b[39m135.1    \u001b[39m | \u001b[39m37.62    \u001b[39m |\n",
      "| \u001b[39m13       \u001b[39m | \u001b[39m-4.711e+0\u001b[39m | \u001b[39m0.2      \u001b[39m | \u001b[39m134.2    \u001b[39m | \u001b[39m27.17    \u001b[39m |\n",
      "| \u001b[39m14       \u001b[39m | \u001b[39m-5.126e+0\u001b[39m | \u001b[39m0.01     \u001b[39m | \u001b[39m141.5    \u001b[39m | \u001b[39m28.42    \u001b[39m |\n",
      "| \u001b[39m15       \u001b[39m | \u001b[39m-4.601e+0\u001b[39m | \u001b[39m0.08345  \u001b[39m | \u001b[39m270.7    \u001b[39m | \u001b[39m64.1     \u001b[39m |\n",
      "| \u001b[39m16       \u001b[39m | \u001b[39m-5.016e+0\u001b[39m | \u001b[39m0.149    \u001b[39m | \u001b[39m275.7    \u001b[39m | \u001b[39m63.62    \u001b[39m |\n",
      "| \u001b[39m17       \u001b[39m | \u001b[39m-4.799e+0\u001b[39m | \u001b[39m0.01     \u001b[39m | \u001b[39m269.2    \u001b[39m | \u001b[39m67.76    \u001b[39m |\n",
      "| \u001b[39m18       \u001b[39m | \u001b[39m-5.504e+0\u001b[39m | \u001b[39m0.01     \u001b[39m | \u001b[39m105.6    \u001b[39m | \u001b[39m100.0    \u001b[39m |\n",
      "| \u001b[39m19       \u001b[39m | \u001b[39m-4.628e+0\u001b[39m | \u001b[39m0.2      \u001b[39m | \u001b[39m103.3    \u001b[39m | \u001b[39m96.45    \u001b[39m |\n",
      "| \u001b[39m20       \u001b[39m | \u001b[39m-4.591e+0\u001b[39m | \u001b[39m0.04983  \u001b[39m | \u001b[39m272.0    \u001b[39m | \u001b[39m66.06    \u001b[39m |\n",
      "| \u001b[39m21       \u001b[39m | \u001b[39m-4.547e+0\u001b[39m | \u001b[39m0.08695  \u001b[39m | \u001b[39m134.2    \u001b[39m | \u001b[39m32.3     \u001b[39m |\n",
      "| \u001b[39m22       \u001b[39m | \u001b[39m-5.172e+0\u001b[39m | \u001b[39m0.01     \u001b[39m | \u001b[39m135.2    \u001b[39m | \u001b[39m30.26    \u001b[39m |\n",
      "| \u001b[39m23       \u001b[39m | \u001b[39m-4.625e+0\u001b[39m | \u001b[39m0.1052   \u001b[39m | \u001b[39m135.4    \u001b[39m | \u001b[39m33.4     \u001b[39m |\n",
      "| \u001b[39m24       \u001b[39m | \u001b[39m-4.576e+0\u001b[39m | \u001b[39m0.1383   \u001b[39m | \u001b[39m133.1    \u001b[39m | \u001b[39m33.51    \u001b[39m |\n",
      "| \u001b[39m25       \u001b[39m | \u001b[39m-4.565e+0\u001b[39m | \u001b[39m0.0953   \u001b[39m | \u001b[39m138.2    \u001b[39m | \u001b[39m33.62    \u001b[39m |\n",
      "| \u001b[39m26       \u001b[39m | \u001b[39m-5.14e+07\u001b[39m | \u001b[39m0.01     \u001b[39m | \u001b[39m139.9    \u001b[39m | \u001b[39m35.43    \u001b[39m |\n",
      "| \u001b[39m27       \u001b[39m | \u001b[39m-4.696e+0\u001b[39m | \u001b[39m0.2      \u001b[39m | \u001b[39m138.7    \u001b[39m | \u001b[39m31.93    \u001b[39m |\n",
      "| \u001b[39m28       \u001b[39m | \u001b[39m-5.206e+0\u001b[39m | \u001b[39m0.01     \u001b[39m | \u001b[39m131.0    \u001b[39m | \u001b[39m34.71    \u001b[39m |\n",
      "| \u001b[39m29       \u001b[39m | \u001b[39m-4.672e+0\u001b[39m | \u001b[39m0.2      \u001b[39m | \u001b[39m132.7    \u001b[39m | \u001b[39m31.87    \u001b[39m |\n",
      "| \u001b[39m30       \u001b[39m | \u001b[39m-4.801e+0\u001b[39m | \u001b[39m0.01     \u001b[39m | \u001b[39m269.0    \u001b[39m | \u001b[39m64.88    \u001b[39m |\n",
      "=============================================================\n",
      "Training Scores:  [-46437164.01030107, -46111339.395793244, -46060231.249375686, -45375557.00351185, -46476881.640760325, -46531589.7053505, -50079677.57054592, -45723836.07583164, -47026049.81968295, -54609201.304076746, -45825931.787578836, -47288414.046038255, -47108185.890879065, -51255251.06961137, -46014890.12633933, -50157892.66166507, -47989315.92121895, -55040504.48805648, -46282797.85525842, -45912501.56699996, -45473203.57341612, -51722803.863673314, -46247538.81667189, -45759522.59070272, -45654243.22296961, -51404522.10897666, -46960630.55424774, -52061535.309992686, -46717858.87316905, -48007133.566805325]\n",
      "Testing Scores:  [-87475420.52571593, -79357557.81786613, -56132234.97288511, -77481947.00958602, -89991702.14146939, -82291710.77047108, -97468428.94177397, -72461898.60334042, -87298500.45471905, -35943972.60041399, -59190675.35401104, -93353120.92210668, -91286724.35455334, -37374444.47331678, -87857917.80310878, -101537867.75423124, -44460454.02661734, -35901774.20437161, -84734770.78487429, -73329003.6801327, -70343314.53451422, -37023247.35272154, -75024094.14541933, -82220542.31743838, -73566716.89712831, -37254479.32808373, -91942100.79568592, -36804223.04345874, -91208087.04992431, -44413288.4930841]\n"
     ]
    }
   ],
   "source": [
    "lgb_param_bounds = {\n",
    "    'n_estimators': (100, 300),\n",
    "    'num_leaves': (20, 100),\n",
    "    'learning_rate': (0.01, 0.2)\n",
    "}\n",
    "best_params_lgb, train_scores_lgb, test_scores_lgb = bayesian_optimization(\n",
    "    LGBMRegressor, \n",
    "    lgb_param_bounds, \n",
    "    X_train, y_train, \n",
    "    X_test, y_test, \n",
    "    categorical_features, numerical_features\n",
    ")\n"
   ]
  },
  {
   "cell_type": "code",
   "execution_count": 32,
   "id": "0fcb2135",
   "metadata": {
    "hidden": true
   },
   "outputs": [
    {
     "data": {
      "text/html": [
       "<div>\n",
       "<style scoped>\n",
       "    .dataframe tbody tr th:only-of-type {\n",
       "        vertical-align: middle;\n",
       "    }\n",
       "\n",
       "    .dataframe tbody tr th {\n",
       "        vertical-align: top;\n",
       "    }\n",
       "\n",
       "    .dataframe thead th {\n",
       "        text-align: right;\n",
       "    }\n",
       "</style>\n",
       "<table border=\"1\" class=\"dataframe\">\n",
       "  <thead>\n",
       "    <tr style=\"text-align: right;\">\n",
       "      <th></th>\n",
       "      <th>train</th>\n",
       "      <th>test</th>\n",
       "    </tr>\n",
       "  </thead>\n",
       "  <tbody>\n",
       "    <tr>\n",
       "      <th>1</th>\n",
       "      <td>-46,111,339.40</td>\n",
       "      <td>-79,357,557.82</td>\n",
       "    </tr>\n",
       "    <tr>\n",
       "      <th>2</th>\n",
       "      <td>-46,060,231.25</td>\n",
       "      <td>-56,132,234.97</td>\n",
       "    </tr>\n",
       "    <tr>\n",
       "      <th>3</th>\n",
       "      <td>-45,375,557.00</td>\n",
       "      <td>-77,481,947.01</td>\n",
       "    </tr>\n",
       "  </tbody>\n",
       "</table>\n",
       "</div>"
      ],
      "text/plain": [
       "           train           test\n",
       "1 -46,111,339.40 -79,357,557.82\n",
       "2 -46,060,231.25 -56,132,234.97\n",
       "3 -45,375,557.00 -77,481,947.01"
      ]
     },
     "execution_count": 32,
     "metadata": {},
     "output_type": "execute_result"
    }
   ],
   "source": [
    "show_training(train_scores_lgb, test_scores_lgb).loc[[1, 2, 3]]"
   ]
  },
  {
   "cell_type": "markdown",
   "id": "1fea6eda",
   "metadata": {},
   "source": [
    "# Best Features"
   ]
  },
  {
   "cell_type": "code",
   "execution_count": null,
   "id": "bcd98a3d",
   "metadata": {},
   "outputs": [],
   "source": [
    "rf_pipeline.named_steps['model'].feature_importances_"
   ]
  },
  {
   "cell_type": "code",
   "execution_count": null,
   "id": "8824b0f6",
   "metadata": {},
   "outputs": [],
   "source": [
    "# Tomamos el que resulto del gridsearch\n",
    "rf_model = rf_best_model \n",
    "\n",
    "# Acceder al modelo dentro del pipeline\n",
    "rf_model = rf_pipeline.named_steps['model']\n",
    "\n",
    "# Obtener la importancia de las características\n",
    "importances = rf_model.feature_importances_\n",
    "\n",
    "# Crear un DataFrame para visualizar la importancia\n",
    "feature_importances = pd.DataFrame({'Feature': X_train.columns, 'Importance': importances})\n",
    "feature_importances = feature_importances.sort_values(by='Importance', ascending=False)\n",
    "\n",
    "print(feature_importances)"
   ]
  },
  {
   "cell_type": "code",
   "execution_count": 33,
   "id": "0c2ad94d",
   "metadata": {},
   "outputs": [
    {
     "data": {
      "text/plain": [
       "{'max_depth': 16.138085072542196,\n",
       " 'min_samples_split': 2.0,\n",
       " 'n_estimators': 130.54077525593624}"
      ]
     },
     "execution_count": 33,
     "metadata": {},
     "output_type": "execute_result"
    }
   ],
   "source": [
    "best_params_rf"
   ]
  },
  {
   "cell_type": "code",
   "execution_count": null,
   "id": "c1fce657",
   "metadata": {},
   "outputs": [],
   "source": [
    "import shap\n",
    "import lightgbm as lgb\n",
    "import xgboost as xgb\n",
    "import matplotlib.pyplot as plt\n",
    "\n",
    "# Entrenar un modelo con LightGBM\n",
    "lgbm_model = lgb.LGBMRegressor(random_state=42)\n",
    "lgbm_model.fit(X_train, y_train)\n",
    "\n",
    "# Entrenar un modelo con XGBoost\n",
    "xgb_model = xgb.XGBRegressor(random_state=42)\n",
    "xgb_model.fit(X_train, y_train)\n",
    "\n",
    "# Crear un objeto Explainer para SHAP (LightGBM)\n",
    "explainer_lgbm = shap.Explainer(lgbm_model)\n",
    "shap_values_lgbm = explainer_lgbm(X_test)\n",
    "\n",
    "# Crear un objeto Explainer para SHAP (XGBoost)\n",
    "explainer_xgb = shap.Explainer(xgb_model)\n",
    "shap_values_xgb = explainer_xgb(X_test)\n",
    "\n",
    "# Visualizar los valores SHAP (summary plot) para LightGBM\n",
    "shap.summary_plot(shap_values_lgbm, X_test)\n",
    "\n",
    "# Visualizar los valores SHAP (summary plot) para XGBoost\n",
    "shap.summary_plot(shap_values_xgb, X_test)\n"
   ]
  },
  {
   "cell_type": "markdown",
   "id": "2b547f4e",
   "metadata": {},
   "source": [
    "# Best features visualization"
   ]
  },
  {
   "cell_type": "markdown",
   "id": "8a5c56e0",
   "metadata": {},
   "source": [
    "## Some features in the domain vs sold_quantity"
   ]
  },
  {
   "cell_type": "code",
   "execution_count": 46,
   "id": "91702b63",
   "metadata": {},
   "outputs": [],
   "source": [
    "import matplotlib.pyplot as plt"
   ]
  },
  {
   "cell_type": "code",
   "execution_count": 71,
   "id": "9b041a38",
   "metadata": {},
   "outputs": [
    {
     "data": {
      "text/plain": [
       "[<matplotlib.lines.Line2D at 0x290197650>]"
      ]
     },
     "execution_count": 71,
     "metadata": {},
     "output_type": "execute_result"
    },
    {
     "data": {
      "image/png": "[encoded data removed]",
      "text/plain": [
       "<Figure size 640x480 with 1 Axes>"
      ]
     },
     "metadata": {},
     "output_type": "display_data"
    }
   ],
   "source": [
    "bf = \"discount\"\n",
    "domain = X_train[bf].sort_values().drop_duplicates()\n",
    "domain_index = domain.index\n",
    "y_hat = rf_best_model.predict(X_train.loc[domain_index])\n",
    "y = y_train.loc[domain_index.values]\n",
    "\n",
    "plt.plot(domain.values, y_hat)\n",
    "plt.plot(domain.values, y, alpha = 0.5)"
   ]
  },
  {
   "cell_type": "code",
   "execution_count": 70,
   "id": "17832c40",
   "metadata": {
    "scrolled": false
   },
   "outputs": [
    {
     "data": {
      "text/plain": [
       "[<matplotlib.lines.Line2D at 0x2901130d0>]"
      ]
     },
     "execution_count": 70,
     "metadata": {},
     "output_type": "execute_result"
    },
    {
     "data": {
      "image/png": "[encoded data removed]",
      "text/plain": [
       "<Figure size 640x480 with 1 Axes>"
      ]
     },
     "metadata": {},
     "output_type": "display_data"
    }
   ],
   "source": [
    "bf = \"discount\"\n",
    "domain = X_test[bf].sort_values().drop_duplicates()\n",
    "domain_index = domain.index\n",
    "y_hat = rf_best_model.predict(X_test.loc[domain_index])\n",
    "y = y_test.loc[domain_index.values]\n",
    "\n",
    "plt.plot(domain.values, y_hat)\n",
    "plt.plot(domain.values, y, alpha = 0.5)"
   ]
  },
  {
   "cell_type": "markdown",
   "id": "b2ff11f3",
   "metadata": {},
   "source": [
    "## Shap"
   ]
  },
  {
   "cell_type": "code",
   "execution_count": 87,
   "id": "ae94447c",
   "metadata": {
    "scrolled": true
   },
   "outputs": [],
   "source": [
    "import shap\n",
    "\n",
    "X_train_transformed = lgbm_best_model.named_steps['preprocessor'].transform(X_train)\n",
    "lgbm_best_model_cv =lgbm_best_model.named_steps[\"model\"]\n",
    "\n",
    "# Crear un objeto Explainer para SHAP (LightGBM)\n",
    "explainer_lgbm = shap.Explainer(lgbm_best_model_cv)\n",
    "shap_values_lgbm = explainer_lgbm(X_train_transformed)"
   ]
  },
  {
   "cell_type": "code",
   "execution_count": 91,
   "id": "f423b79e",
   "metadata": {},
   "outputs": [],
   "source": [
    "from sklearn.compose import ColumnTransformer\n",
    "from sklearn.pipeline import Pipeline\n",
    "from sklearn.preprocessing import OneHotEncoder, StandardScaler\n",
    "from sklearn.impute import SimpleImputer\n",
    "from sklearn.ensemble import RandomForestRegressor\n",
    "import shap\n",
    "\n",
    "# Definir las características categóricas y numéricas\n",
    "categorical_features = ['buying_mode', 'query', 'condition', 'brand', 'domain_id', 'listing_type_id']\n",
    "numerical_features = ['price', 'initial_quantity', 'available_quantity', 'installment_quantity', 'installment_rate', 'days_until_discount_end', 'msi', 'discount']\n",
    "\n",
    "# Crear el preprocesador\n",
    "preprocessor = ColumnTransformer(\n",
    "    transformers=[\n",
    "        ('num', SimpleImputer(strategy='median'), numerical_features),\n",
    "        ('cat', OneHotEncoder(handle_unknown='ignore'), categorical_features)\n",
    "    ])\n",
    "\n",
    "pipeline = lgbm_best_model\n",
    "\n",
    "# Extraer el conjunto de datos transformado desde el pipeline\n",
    "X_train_transformed = pipeline.named_steps['preprocessor'].transform(X_train)\n",
    "\n",
    "# Usar SHAP para calcular valores de SHAP\n",
    "explainer = shap.TreeExplainer(pipeline.named_steps['model'])\n",
    "shap_values = explainer.shap_values(X_train_transformed)\n",
    "\n",
    "# Graficar SHAP summary\n",
    "# shap.summary_plot(shap_values, X_train_transformed)\n"
   ]
  },
  {
   "cell_type": "code",
   "execution_count": 88,
   "id": "ca607db7",
   "metadata": {},
   "outputs": [
    {
     "data": {
      "text/plain": [
       ".values =\n",
       "<1075x468 sparse matrix of type '<class 'numpy.float64'>'\n",
       "\twith 48375 stored elements in Compressed Sparse Row format>\n",
       "\n",
       ".base_values =\n",
       "array([2102.60186005, 2102.60186005, 2102.60186005, ..., 2102.60186005,\n",
       "       2102.60186005, 2102.60186005])\n",
       "\n",
       ".data =\n",
       "<1075x468 sparse matrix of type '<class 'numpy.float64'>'\n",
       "\twith 16914 stored elements in Compressed Sparse Row format>"
      ]
     },
     "execution_count": 88,
     "metadata": {},
     "output_type": "execute_result"
    }
   ],
   "source": [
    "shap_values_lgbm"
   ]
  },
  {
   "cell_type": "markdown",
   "id": "f864e36f",
   "metadata": {},
   "source": [
    "# Guardar los resultados"
   ]
  },
  {
   "cell_type": "code",
   "execution_count": null,
   "id": "ce45287a",
   "metadata": {},
   "outputs": [],
   "source": [
    "best_rf_model = RandomForestRegressor(**best_rf_params)\n",
    "best_xgb_model = XGBRegressor(**best_xgb_params)\n",
    "best_lgbm_model = LGBMRegressor(**best_lgbm_params)"
   ]
  },
  {
   "cell_type": "code",
   "execution_count": null,
   "id": "9c9b367c",
   "metadata": {},
   "outputs": [],
   "source": [
    "import joblib\n",
    "\n",
    "joblib.dump(best_rf_model, 'best_random_forest_model.pkl')\n",
    "joblib.dump(best_xgb_model, 'best_xgboost_model.pkl')\n",
    "joblib.dump(best_lgbm_model, 'best_lightgbm_model.pkl')"
   ]
  }
 ],
 "metadata": {
  "kernelspec": {
   "display_name": "Python 3 (ipykernel)",
   "language": "python",
   "name": "python3"
  },
  "language_info": {
   "codemirror_mode": {
    "name": "ipython",
    "version": 3
   },
   "file_extension": ".py",
   "mimetype": "text/x-python",
   "name": "python",
   "nbconvert_exporter": "python",
   "pygments_lexer": "ipython3",
   "version": "3.11.4"
  },
  "toc": {
   "base_numbering": 1,
   "nav_menu": {},
   "number_sections": true,
   "sideBar": false,
   "skip_h1_title": false,
   "title_cell": "Table of Contents",
   "title_sidebar": "Contents",
   "toc_cell": false,
   "toc_position": {},
   "toc_section_display": true,
   "toc_window_display": false
  }
 },
 "nbformat": 4,
 "nbformat_minor": 5
}
