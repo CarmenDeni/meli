{
 "cells": [
  {
   "cell_type": "markdown",
   "id": "c8a13d5f",
   "metadata": {},
   "source": [
    "# Get features"
   ]
  },
  {
   "cell_type": "code",
   "execution_count": 1,
   "id": "06cf6d94",
   "metadata": {},
   "outputs": [],
   "source": [
    "import sys\n",
    "import os\n",
    "\n",
    "sys.path.append(os.path.abspath(os.path.join('..')))\n",
    "\n",
    "from data_experts.data_pipeline import DataPipeline\n",
    "from data_experts.feature_engineer import FeatureEngineer"
   ]
  },
  {
   "cell_type": "code",
   "execution_count": 2,
   "id": "a08e9aa0",
   "metadata": {},
   "outputs": [],
   "source": [
    "import pandas as pd\n",
    "pd.set_option('display.max_rows', None)\n",
    "pd.set_option('display.max_columns', None)\n"
   ]
  },
  {
   "cell_type": "code",
   "execution_count": 44,
   "id": "1bcc8e6e",
   "metadata": {},
   "outputs": [],
   "source": [
    "products =[\n",
    "    \"televisor%204k\",\n",
    "    \"sistema%20de%20teatro%20en%20casa\",\n",
    "    \"audifonos%20inalambricos\",\n",
    "    \"consola%20de%20videojuegos\",\n",
    "    \"smartphone%20android\",\n",
    "    \"laptop%20gaming\",\n",
    "    \"tablet%20android\",\n",
    "    \"bocina%20bluetooth\",\n",
    "    \"smart%20tv\",\n",
    "    \"barra%20de%20sonido%20dolby%20atmos\",\n",
    "    \"audifonos%20gaming\",\n",
    "    \"reloj%20inteligente\",\n",
    "    \"monitor%20curvo\",\n",
    "    \"disco%20duro%20externo\",\n",
    "    \"auriculares%20inalambricos\",\n",
    "    \"gafas%20de%20realidad%20virtual\",\n",
    "    \"teclado%20gaming\",\n",
    "    \"mouse%20inalambrico\",\n",
    "    \"dispositivo%20inteligente%20para%20el%20hogar\",\n",
    "    \"adaptador%20bluetooth\",\n",
    "    \"silla%20gamer\",\n",
    "    \"pc%20de%20escritorio\",\n",
    "    \"proyector%20para%20cine%20en%20casa\",\n",
    "    \"focos%20inteligentes\",\n",
    "    \"robot%20aspiradora\",\n",
    "    \"camara%20reflex\",\n",
    "    \"camara%20sin%20espejo\",\n",
    "    \"monitor%20gaming\",\n",
    "    \"cargador%20portatil\",\n",
    "    \"tarjeta%20grafica\",\n",
    "    \"router%20wifi\",\n",
    "    \"audifonos%20con%20cancelacion%20de%20ruido\",\n",
    "    \"cargador%20inalambrico\",\n",
    "    \"ssd%20portatil\",\n",
    "    \"refrigerador%20inteligente\",\n",
    "    \"patineta%20electrica\",\n",
    "    \"pulsera%20fitness\",\n",
    "    \"timbre%20inteligente\",\n",
    "    \"camara%20de%20seguridad%20para%20el%20hogar\",\n",
    "    \"funda%20para%20tablet\"\n",
    "]\n",
    "\n",
    "access_token = 'TU_ACCESS_TOKEN'\n",
    "\n",
    "cleaner = DataPipeline(products, access_token)\n",
    "df_cleaned = cleaner.process_data()\n",
    "\n",
    "engineer = FeatureEngineer(products, access_token)\n",
    "engineer.dataframe = df_cleaned"
   ]
  },
  {
   "cell_type": "code",
   "execution_count": 45,
   "id": "f1689cf5",
   "metadata": {},
   "outputs": [],
   "source": [
    "df0 = engineer.apply_all_features()"
   ]
  },
  {
   "cell_type": "code",
   "execution_count": 41,
   "id": "ee16d008",
   "metadata": {},
   "outputs": [
    {
     "data": {
      "text/plain": [
       "1293"
      ]
     },
     "execution_count": 41,
     "metadata": {},
     "output_type": "execute_result"
    }
   ],
   "source": [
    "df0[\"catalog_product_id\"].nunique()"
   ]
  },
  {
   "cell_type": "code",
   "execution_count": 42,
   "id": "e9e3b321",
   "metadata": {},
   "outputs": [
    {
     "data": {
      "text/plain": [
       "(1343, 49)"
      ]
     },
     "execution_count": 42,
     "metadata": {},
     "output_type": "execute_result"
    }
   ],
   "source": [
    "df0.shape"
   ]
  },
  {
   "cell_type": "code",
   "execution_count": 47,
   "id": "61c3ecc2",
   "metadata": {},
   "outputs": [
    {
     "data": {
      "text/plain": [
       "array(['televisor%204k', 'sistema%20de%20teatro%20en%20casa',\n",
       "       'audifonos%20inalambricos', 'consola%20de%20videojuegos',\n",
       "       'smartphone%20android', 'laptop%20gaming', 'tablet%20android',\n",
       "       'bocina%20bluetooth', 'smart%20tv',\n",
       "       'barra%20de%20sonido%20dolby%20atmos', 'audifonos%20gaming',\n",
       "       'reloj%20inteligente', 'monitor%20curvo', 'disco%20duro%20externo',\n",
       "       'auriculares%20inalambricos', 'gafas%20de%20realidad%20virtual',\n",
       "       'teclado%20gaming', 'mouse%20inalambrico',\n",
       "       'dispositivo%20inteligente%20para%20el%20hogar',\n",
       "       'adaptador%20bluetooth', 'silla%20gamer', 'pc%20de%20escritorio',\n",
       "       'proyector%20para%20cine%20en%20casa', 'focos%20inteligentes',\n",
       "       'robot%20aspiradora', 'camara%20reflex', 'camara%20sin%20espejo',\n",
       "       'monitor%20gaming', 'cargador%20portatil', 'tarjeta%20grafica',\n",
       "       'router%20wifi', 'audifonos%20con%20cancelacion%20de%20ruido',\n",
       "       'cargador%20inalambrico', 'ssd%20portatil',\n",
       "       'refrigerador%20inteligente', 'patineta%20electrica',\n",
       "       'pulsera%20fitness', 'timbre%20inteligente',\n",
       "       'camara%20de%20seguridad%20para%20el%20hogar',\n",
       "       'funda%20para%20tablet'], dtype=object)"
      ]
     },
     "execution_count": 47,
     "metadata": {},
     "output_type": "execute_result"
    }
   ],
   "source": [
    "df0[\"query\"].unique()"
   ]
  },
  {
   "cell_type": "code",
   "execution_count": 48,
   "id": "dcae3587",
   "metadata": {},
   "outputs": [],
   "source": [
    "df0.to_csv(\"../data/electronics.csv\")"
   ]
  },
  {
   "cell_type": "code",
   "execution_count": 50,
   "id": "87fc3f49",
   "metadata": {},
   "outputs": [],
   "source": [
    "features_to_analize = [\"discount\", \"buying_mode\", \"query\",\n",
    "                       'installment_quantity', 'installment_rate', 'has_msi', 'msi',\n",
    "                       \"days_until_discount_end\", \"condition\",\n",
    "                       \"brand\", \"free_shipping\", 'store_pick_up',\n",
    "                       \"domain_id\", \"\"\n",
    "                       'is_official_store', \"listing_type_id\"]\n",
    "\n",
    "df = df0[features_to_analize]"
   ]
  },
  {
   "cell_type": "code",
   "execution_count": 52,
   "id": "277dd1ef",
   "metadata": {},
   "outputs": [
    {
     "name": "stdout",
     "output_type": "stream",
     "text": [
      "<class 'pandas.core.frame.DataFrame'>\n",
      "RangeIndex: 1977 entries, 0 to 1976\n",
      "Data columns (total 15 columns):\n",
      " #   Column                   Non-Null Count  Dtype  \n",
      "---  ------                   --------------  -----  \n",
      " 0   discount                 1977 non-null   float64\n",
      " 1   buying_mode              1977 non-null   object \n",
      " 2   query                    1977 non-null   object \n",
      " 3   installment_quantity     1977 non-null   int64  \n",
      " 4   installment_rate         1977 non-null   float64\n",
      " 5   has_msi                  1977 non-null   bool   \n",
      " 6   msi                      1977 non-null   int64  \n",
      " 7   days_until_discount_end  1977 non-null   int64  \n",
      " 8   condition                1977 non-null   object \n",
      " 9   brand                    1976 non-null   object \n",
      " 10  free_shipping            1977 non-null   bool   \n",
      " 11  store_pick_up            1977 non-null   bool   \n",
      " 12  domain_id                1977 non-null   object \n",
      " 13  is_official_store        1977 non-null   bool   \n",
      " 14  listing_type_id          1977 non-null   object \n",
      "dtypes: bool(4), float64(2), int64(3), object(6)\n",
      "memory usage: 177.8+ KB\n"
     ]
    }
   ],
   "source": [
    "df.info()"
   ]
  },
  {
   "cell_type": "code",
   "execution_count": 55,
   "id": "6c9bc281",
   "metadata": {},
   "outputs": [],
   "source": [
    "df = df.dropna(subset=\"brand\")"
   ]
  },
  {
   "cell_type": "code",
   "execution_count": 56,
   "id": "a1841f24",
   "metadata": {},
   "outputs": [
    {
     "name": "stdout",
     "output_type": "stream",
     "text": [
      "<class 'pandas.core.frame.DataFrame'>\n",
      "Index: 1976 entries, 0 to 1976\n",
      "Data columns (total 15 columns):\n",
      " #   Column                   Non-Null Count  Dtype  \n",
      "---  ------                   --------------  -----  \n",
      " 0   discount                 1976 non-null   float64\n",
      " 1   buying_mode              1976 non-null   object \n",
      " 2   query                    1976 non-null   object \n",
      " 3   installment_quantity     1976 non-null   int64  \n",
      " 4   installment_rate         1976 non-null   float64\n",
      " 5   has_msi                  1976 non-null   bool   \n",
      " 6   msi                      1976 non-null   int64  \n",
      " 7   days_until_discount_end  1976 non-null   int64  \n",
      " 8   condition                1976 non-null   object \n",
      " 9   brand                    1976 non-null   object \n",
      " 10  free_shipping            1976 non-null   bool   \n",
      " 11  store_pick_up            1976 non-null   bool   \n",
      " 12  domain_id                1976 non-null   object \n",
      " 13  is_official_store        1976 non-null   bool   \n",
      " 14  listing_type_id          1976 non-null   object \n",
      "dtypes: bool(4), float64(2), int64(3), object(6)\n",
      "memory usage: 193.0+ KB\n"
     ]
    }
   ],
   "source": [
    "df.info()"
   ]
  },
  {
   "cell_type": "code",
   "execution_count": 57,
   "id": "58c8d015",
   "metadata": {},
   "outputs": [],
   "source": [
    "df.to_csv(\"../data/electronics_features_to_analyze.csv\")"
   ]
  }
 ],
 "metadata": {
  "kernelspec": {
   "display_name": "Python 3 (ipykernel)",
   "language": "python",
   "name": "python3"
  },
  "language_info": {
   "codemirror_mode": {
    "name": "ipython",
    "version": 3
   },
   "file_extension": ".py",
   "mimetype": "text/x-python",
   "name": "python",
   "nbconvert_exporter": "python",
   "pygments_lexer": "ipython3",
   "version": "3.11.4"
  },
  "toc": {
   "base_numbering": 1,
   "nav_menu": {},
   "number_sections": true,
   "sideBar": false,
   "skip_h1_title": false,
   "title_cell": "Table of Contents",
   "title_sidebar": "Contents",
   "toc_cell": false,
   "toc_position": {},
   "toc_section_display": true,
   "toc_window_display": false
  }
 },
 "nbformat": 4,
 "nbformat_minor": 5
}
